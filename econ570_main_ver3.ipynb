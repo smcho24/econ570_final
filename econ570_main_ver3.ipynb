{
 "cells": [
  {
   "cell_type": "markdown",
   "id": "4c9f5e53",
   "metadata": {},
   "source": [
    "# Final Project (ECON570)\n",
    "* Instructor: Dr. Ida Johnsson\n",
    "* Authors: Seongmoon CHO, James GROSS, and Jaehyun HA\n",
    "* Date: 05/06/2022"
   ]
  },
  {
   "cell_type": "markdown",
   "id": "7382c3e5",
   "metadata": {},
   "source": [
    "# 1. Introduction"
   ]
  },
  {
   "cell_type": "markdown",
   "id": "c2beb4b3",
   "metadata": {},
   "source": [
    "## a. Research question"
   ]
  },
  {
   "cell_type": "markdown",
   "id": "34a4fd2a",
   "metadata": {},
   "source": [
    "Price modeling in the real estate field has a long history. The theory of hedonic modeling, suggested by Rosen (1974), assumes that the property price could be explained by relevant features such as the attributes of the property (i.e., housing) itself, as well as factors related to neighborhoods and the environment. Building on this theory, hedonic models for housing prices were generally suggested by using an ordinary least square (OLS) regression model. While the models using OLS are useful because it provides statistical inference, it is sometimes limited in terms of prediction power as well as assumptions (e.g., independence, homoskedasticity, and normal distribution) that should be fulfilled. On the other hand, recent studies have suggested that machine learning and deep learning tools generally perform well for hedonic models. In this final project, we test five different modeling approaches to examine whether adopting machine learning tools in hedonic modeling can provide us with better prediction power.  \n",
    "\n",
    "- Rosen, S. (1974). Hedonic prices and implicit markets: product differentiation in pure competition. Journal of political economy, 82(1), 34-55."
   ]
  },
  {
   "cell_type": "markdown",
   "id": "58289ef1",
   "metadata": {},
   "source": [
    "## b. Significance"
   ]
  },
  {
   "cell_type": "markdown",
   "id": "f94cb8ea",
   "metadata": {},
   "source": [
    "Recent literature on hedonic models for housing prices generally focused on adding explanatory variables with new perspectives to increase the prediction power. For instance, the number of accessible jobs, amenities located nearby, quality of parks and sidewalks, greenness of neighborhoods, and safety are features that are known to contribute to predicting housing price better. However, the main limitation of previous approaches using the OLS regression model is related to the weak prediction power. In this aspect, it is necessary to apply new methodologies that can help increase the prediction power of hedonic models. While machine learning tools are also limited with regards to inference, they provide a strong data-driven prediction. Machine learning tools are expected to provide new ways of predicting housing prices, further suggesting implications in domains where the high accurary of prediction results are significant. "
   ]
  },
  {
   "cell_type": "markdown",
   "id": "5335ca23",
   "metadata": {},
   "source": [
    "## c. Literature review"
   ]
  },
  {
   "cell_type": "markdown",
   "id": "b3e23494",
   "metadata": {},
   "source": [
    "A large number of studies applied machine learning (ML) approaches to predict housing prices with high accuracy. For instance, Truong et al. (2020) tested different types of ML tools including Random Forest, XGBoost, and LightGBM for housing price prediction. The authors highlighted the pros and cons of each method; Random Forest model is susceptible to overfitting, while the prediction power of XGBoost and LightGBM are moderate. To add, the authors suggested that future research should focus on combining ML tools and Deep Learning methods, as well as develop faster ways to fit complicated models. Another paper by Badu & Chandran (2019) summarized the key advantages and disadvantages of different prediction methods. In particular, the authors suggested that linear models are related to under-fitting, whereas complicated models often report overfitted results. The authors further implied that the ridge regression and LASSO may provide efficient means for housing price prediction with less overfitting issues. Other recent studies were also able to suggest ways to consider nonlinearities in hedonic models and integate multiple regression models and ML tools (Montero et al., 2018; Pérez-Rave et al., 2019).\n",
    "\n",
    "- Babu, A., & Chandran, A. S. (2019). Literature Review on Real Estate Value Prediction Using Machine Learning. International Journal of Computer Science and Mobile Applications (IJCSMA), 7(3), 8-9.\n",
    "- Montero, J. M., Mínguez, R., & Fernández-Avilés, G. (2018). Housing price prediction: parametric versus semi-parametric spatial hedonic models. Journal of Geographical Systems, 20(1), 27-55.\n",
    "- Pérez-Rave, J. I., Correa-Morales, J. C., & González-Echavarría, F. (2019). A machine learning approach to big data regression analysis of real estate prices for inferential and predictive purposes. Journal of Property Research, 36(1), 59-96.\n",
    "- Truong, Q., Nguyen, M., Dang, H., & Mei, B. (2020). Housing price prediction via improved machine learning techniques. Procedia Computer Science, 174, 433-442."
   ]
  },
  {
   "cell_type": "markdown",
   "id": "aeabfe12",
   "metadata": {},
   "source": [
    "# 2. Data"
   ]
  },
  {
   "cell_type": "markdown",
   "id": "1e2bd9f8",
   "metadata": {},
   "source": [
    "## a. Data source"
   ]
  },
  {
   "cell_type": "markdown",
   "id": "965289ec",
   "metadata": {},
   "source": [
    "We use the Ames Housing Dataset compiled by De Cock (2011). We downloaded the data from one of the competitions held in Kaggle (https://www.kaggle.com/competitions/house-prices-advanced-regression-techniques/overview). We used the train dataset which included 1,400 rows of data on housing price and related attributes. It should be noted that we were unable to use the test data because it did not include the dependent variable (i.e. housing price). For the explanatory variables, there were 80 features mostly related to the features of the housing itself, lot, living space, basement, garage, and bathroom. Other features included the name of neighborhood and the year when the housing was sold. The explanatory variables were mixed of continuous and categorical (both nominal and ordinal) variables, which we had to clean for data analysis. \n",
    "\n",
    "- De Cock, D. (2011). Ames, Iowa: Alternative to the Boston housing data as an end of semester regression project. Journal of Statistics Education, 19(3)."
   ]
  },
  {
   "cell_type": "markdown",
   "id": "1e1b77df",
   "metadata": {},
   "source": [
    "## b. Data cleaning"
   ]
  },
  {
   "cell_type": "markdown",
   "id": "5c8b62f9",
   "metadata": {},
   "source": [
    "### Libraries Import"
   ]
  },
  {
   "cell_type": "code",
   "execution_count": 1,
   "id": "90fb5132",
   "metadata": {},
   "outputs": [],
   "source": [
    "import pandas as pd\n",
    "import seaborn as sns\n",
    "import matplotlib.pyplot as plt\n",
    "import statsmodels.api as sm\n",
    "import numpy as np\n",
    "import math\n",
    "\n",
    "from sklearn.model_selection import train_test_split\n",
    "from sklearn.model_selection import KFold\n",
    "from sklearn.model_selection import cross_val_score\n",
    "from sklearn.linear_model import LinearRegression\n",
    "\n",
    "from numpy import mean\n",
    "from numpy import absolute\n",
    "from numpy import sqrt\n",
    "\n",
    "from scipy.cluster import hierarchy\n",
    "from scipy.spatial.distance import pdist\n",
    "\n",
    "from sklearn import neighbors\n",
    "from sklearn.cluster import DBSCAN, KMeans\n",
    "from sklearn.decomposition import PCA\n",
    "from sklearn.discriminant_analysis import LinearDiscriminantAnalysis\n",
    "from sklearn.linear_model import LinearRegression, Ridge, Lasso\n",
    "from sklearn.metrics import mean_squared_error, r2_score\n",
    "from sklearn.model_selection import train_test_split, StratifiedKFold, RepeatedStratifiedKFold, cross_val_score, RandomizedSearchCV, GridSearchCV\n",
    "from sklearn.ensemble import RandomForestRegressor\n",
    "from sklearn.manifold import TSNE\n",
    "from sklearn.preprocessing import StandardScaler, MinMaxScaler"
   ]
  },
  {
   "cell_type": "markdown",
   "id": "4442a5ec",
   "metadata": {},
   "source": [
    "### Data Import"
   ]
  },
  {
   "cell_type": "code",
   "execution_count": 2,
   "id": "11a31abb",
   "metadata": {},
   "outputs": [],
   "source": [
    "df = pd.read_csv('data_cleaned.csv') #read csv file"
   ]
  },
  {
   "cell_type": "markdown",
   "id": "aded88d9",
   "metadata": {},
   "source": [
    "## Descriptive Analysis"
   ]
  },
  {
   "cell_type": "code",
   "execution_count": 3,
   "id": "43caadb7",
   "metadata": {},
   "outputs": [],
   "source": [
    "response = [\"log_SalePrice\"]\n",
    "predictors = ['LotFrontage', 'LotArea', 'Street', 'Alley', 'LotShape', 'LandContour', 'Utilities', 'LandSlope',\n",
    "          'OverallQual', 'OverallCond', 'YearBuilt', 'YearRemodAdd', 'RoofMatl', 'MasVnrArea', 'ExterQual', 'ExterCond', 'BsmtQual', 'BsmtCond', 'BsmtExposure', \n",
    "          'BsmtFinType1', 'BsmtFinSF1', 'BsmtFinType2', 'BsmtFinSF2', 'BsmtUnfSF', 'TotalBsmtSF', 'Heating', 'HeatingQC', 'CentralAir', 'Electrical', '1stFlrSF', \n",
    "          '2ndFlrSF', 'LowQualFinSF', 'GrLivArea', 'BsmtFullBath', 'BsmtHalfBath', 'FullBath', 'HalfBath', 'BedroomAbvGr', 'KitchenAbvGr', 'KitchenQual', 'TotRmsAbvGrd',\n",
    "          'Fireplaces', 'GarageFinish', 'GarageCars', 'GarageArea', 'GarageQual', 'GarageCond', 'PavedDrive', 'WoodDeckSF', 'OpenPorchSF', 'EnclosedPorch', '3SsnPorch', \n",
    "          'ScreenPorch', 'PoolArea', 'SaleCondition', 'Corner', 'CulDSac', 'FR2', 'FR3', 'Inside', 'Blmngtn', 'Blueste', 'BrDale', 'BrkSide', 'ClearCr', 'CollgCr', \n",
    "          'Crawfor', 'Edwards', 'Gilbert', 'IDOTRR', 'MeadowV', 'Mitchel', 'NAmes', 'NPkVill', 'NWAmes', 'NoRidge', 'NridgHt', 'OldTown', 'SWISU', 'Sawyer', 'SawyerW', 'Somerst', \n",
    "          'StoneBr', 'Timber', 'Veenker', '1Fam', '2Fam', 'Twnhs', '1.5Fin', '1.5Unf', '1Story', '2.5Fin', '2.5Unf', '2Story', 'SFoyer', 'SLvl', 'Gable', 'Hip', 'Others', 'BrkCmn', \n",
    "          'BrkFace', 'None', 'Stone', 'Y_2006', 'Y_2007', 'Y_2008', 'Y_2009', 'Y_2010']"
   ]
  },
  {
   "cell_type": "code",
   "execution_count": 4,
   "id": "81b4ff62",
   "metadata": {},
   "outputs": [],
   "source": [
    "# We log transformed our dependent variable\n",
    "df['log_SalePrice'] = np.log(df['SalePrice'])"
   ]
  },
  {
   "cell_type": "code",
   "execution_count": 5,
   "id": "def96741",
   "metadata": {},
   "outputs": [
    {
     "data": {
      "text/html": [
       "<div>\n",
       "<style scoped>\n",
       "    .dataframe tbody tr th:only-of-type {\n",
       "        vertical-align: middle;\n",
       "    }\n",
       "\n",
       "    .dataframe tbody tr th {\n",
       "        vertical-align: top;\n",
       "    }\n",
       "\n",
       "    .dataframe thead th {\n",
       "        text-align: right;\n",
       "    }\n",
       "</style>\n",
       "<table border=\"1\" class=\"dataframe\">\n",
       "  <thead>\n",
       "    <tr style=\"text-align: right;\">\n",
       "      <th></th>\n",
       "      <th>Id</th>\n",
       "      <th>SalePrice</th>\n",
       "      <th>LotFrontage</th>\n",
       "      <th>LotArea</th>\n",
       "      <th>Street</th>\n",
       "      <th>Alley</th>\n",
       "      <th>LotShape</th>\n",
       "      <th>LandContour</th>\n",
       "      <th>Utilities</th>\n",
       "      <th>LandSlope</th>\n",
       "      <th>...</th>\n",
       "      <th>BrkCmn</th>\n",
       "      <th>BrkFace</th>\n",
       "      <th>None</th>\n",
       "      <th>Stone</th>\n",
       "      <th>Y_2006</th>\n",
       "      <th>Y_2007</th>\n",
       "      <th>Y_2008</th>\n",
       "      <th>Y_2009</th>\n",
       "      <th>Y_2010</th>\n",
       "      <th>log_SalePrice</th>\n",
       "    </tr>\n",
       "  </thead>\n",
       "  <tbody>\n",
       "    <tr>\n",
       "      <th>count</th>\n",
       "      <td>1460.000000</td>\n",
       "      <td>1460.000000</td>\n",
       "      <td>1460.000000</td>\n",
       "      <td>1460.000000</td>\n",
       "      <td>1460.000000</td>\n",
       "      <td>1460.000000</td>\n",
       "      <td>1460.000000</td>\n",
       "      <td>1460.000000</td>\n",
       "      <td>1460.000000</td>\n",
       "      <td>1460.000000</td>\n",
       "      <td>...</td>\n",
       "      <td>1460.000000</td>\n",
       "      <td>1460.000000</td>\n",
       "      <td>1460.000000</td>\n",
       "      <td>1460.000000</td>\n",
       "      <td>1460.000000</td>\n",
       "      <td>1460.000000</td>\n",
       "      <td>1460.000000</td>\n",
       "      <td>1460.000000</td>\n",
       "      <td>1460.000000</td>\n",
       "      <td>1460.000000</td>\n",
       "    </tr>\n",
       "    <tr>\n",
       "      <th>mean</th>\n",
       "      <td>730.500000</td>\n",
       "      <td>180921.195890</td>\n",
       "      <td>57.623288</td>\n",
       "      <td>10516.828082</td>\n",
       "      <td>0.995890</td>\n",
       "      <td>0.062329</td>\n",
       "      <td>0.633562</td>\n",
       "      <td>0.897945</td>\n",
       "      <td>0.999315</td>\n",
       "      <td>0.946575</td>\n",
       "      <td>...</td>\n",
       "      <td>0.010274</td>\n",
       "      <td>0.304795</td>\n",
       "      <td>0.597260</td>\n",
       "      <td>0.087671</td>\n",
       "      <td>0.215068</td>\n",
       "      <td>0.225342</td>\n",
       "      <td>0.208219</td>\n",
       "      <td>0.231507</td>\n",
       "      <td>0.119863</td>\n",
       "      <td>12.024051</td>\n",
       "    </tr>\n",
       "    <tr>\n",
       "      <th>std</th>\n",
       "      <td>421.610009</td>\n",
       "      <td>79442.502883</td>\n",
       "      <td>34.664304</td>\n",
       "      <td>9981.264932</td>\n",
       "      <td>0.063996</td>\n",
       "      <td>0.241835</td>\n",
       "      <td>0.481996</td>\n",
       "      <td>0.302824</td>\n",
       "      <td>0.026171</td>\n",
       "      <td>0.224956</td>\n",
       "      <td>...</td>\n",
       "      <td>0.100873</td>\n",
       "      <td>0.460478</td>\n",
       "      <td>0.490617</td>\n",
       "      <td>0.282913</td>\n",
       "      <td>0.411011</td>\n",
       "      <td>0.417951</td>\n",
       "      <td>0.406174</td>\n",
       "      <td>0.421940</td>\n",
       "      <td>0.324913</td>\n",
       "      <td>0.399452</td>\n",
       "    </tr>\n",
       "    <tr>\n",
       "      <th>min</th>\n",
       "      <td>1.000000</td>\n",
       "      <td>34900.000000</td>\n",
       "      <td>0.000000</td>\n",
       "      <td>1300.000000</td>\n",
       "      <td>0.000000</td>\n",
       "      <td>0.000000</td>\n",
       "      <td>0.000000</td>\n",
       "      <td>0.000000</td>\n",
       "      <td>0.000000</td>\n",
       "      <td>0.000000</td>\n",
       "      <td>...</td>\n",
       "      <td>0.000000</td>\n",
       "      <td>0.000000</td>\n",
       "      <td>0.000000</td>\n",
       "      <td>0.000000</td>\n",
       "      <td>0.000000</td>\n",
       "      <td>0.000000</td>\n",
       "      <td>0.000000</td>\n",
       "      <td>0.000000</td>\n",
       "      <td>0.000000</td>\n",
       "      <td>10.460242</td>\n",
       "    </tr>\n",
       "    <tr>\n",
       "      <th>25%</th>\n",
       "      <td>365.750000</td>\n",
       "      <td>129975.000000</td>\n",
       "      <td>42.000000</td>\n",
       "      <td>7553.500000</td>\n",
       "      <td>1.000000</td>\n",
       "      <td>0.000000</td>\n",
       "      <td>0.000000</td>\n",
       "      <td>1.000000</td>\n",
       "      <td>1.000000</td>\n",
       "      <td>1.000000</td>\n",
       "      <td>...</td>\n",
       "      <td>0.000000</td>\n",
       "      <td>0.000000</td>\n",
       "      <td>0.000000</td>\n",
       "      <td>0.000000</td>\n",
       "      <td>0.000000</td>\n",
       "      <td>0.000000</td>\n",
       "      <td>0.000000</td>\n",
       "      <td>0.000000</td>\n",
       "      <td>0.000000</td>\n",
       "      <td>11.775097</td>\n",
       "    </tr>\n",
       "    <tr>\n",
       "      <th>50%</th>\n",
       "      <td>730.500000</td>\n",
       "      <td>163000.000000</td>\n",
       "      <td>63.000000</td>\n",
       "      <td>9478.500000</td>\n",
       "      <td>1.000000</td>\n",
       "      <td>0.000000</td>\n",
       "      <td>1.000000</td>\n",
       "      <td>1.000000</td>\n",
       "      <td>1.000000</td>\n",
       "      <td>1.000000</td>\n",
       "      <td>...</td>\n",
       "      <td>0.000000</td>\n",
       "      <td>0.000000</td>\n",
       "      <td>1.000000</td>\n",
       "      <td>0.000000</td>\n",
       "      <td>0.000000</td>\n",
       "      <td>0.000000</td>\n",
       "      <td>0.000000</td>\n",
       "      <td>0.000000</td>\n",
       "      <td>0.000000</td>\n",
       "      <td>12.001505</td>\n",
       "    </tr>\n",
       "    <tr>\n",
       "      <th>75%</th>\n",
       "      <td>1095.250000</td>\n",
       "      <td>214000.000000</td>\n",
       "      <td>79.000000</td>\n",
       "      <td>11601.500000</td>\n",
       "      <td>1.000000</td>\n",
       "      <td>0.000000</td>\n",
       "      <td>1.000000</td>\n",
       "      <td>1.000000</td>\n",
       "      <td>1.000000</td>\n",
       "      <td>1.000000</td>\n",
       "      <td>...</td>\n",
       "      <td>0.000000</td>\n",
       "      <td>1.000000</td>\n",
       "      <td>1.000000</td>\n",
       "      <td>0.000000</td>\n",
       "      <td>0.000000</td>\n",
       "      <td>0.000000</td>\n",
       "      <td>0.000000</td>\n",
       "      <td>0.000000</td>\n",
       "      <td>0.000000</td>\n",
       "      <td>12.273731</td>\n",
       "    </tr>\n",
       "    <tr>\n",
       "      <th>max</th>\n",
       "      <td>1460.000000</td>\n",
       "      <td>755000.000000</td>\n",
       "      <td>313.000000</td>\n",
       "      <td>215245.000000</td>\n",
       "      <td>1.000000</td>\n",
       "      <td>1.000000</td>\n",
       "      <td>1.000000</td>\n",
       "      <td>1.000000</td>\n",
       "      <td>1.000000</td>\n",
       "      <td>1.000000</td>\n",
       "      <td>...</td>\n",
       "      <td>1.000000</td>\n",
       "      <td>1.000000</td>\n",
       "      <td>1.000000</td>\n",
       "      <td>1.000000</td>\n",
       "      <td>1.000000</td>\n",
       "      <td>1.000000</td>\n",
       "      <td>1.000000</td>\n",
       "      <td>1.000000</td>\n",
       "      <td>1.000000</td>\n",
       "      <td>13.534473</td>\n",
       "    </tr>\n",
       "  </tbody>\n",
       "</table>\n",
       "<p>8 rows × 111 columns</p>\n",
       "</div>"
      ],
      "text/plain": [
       "                Id      SalePrice  LotFrontage        LotArea       Street  \\\n",
       "count  1460.000000    1460.000000  1460.000000    1460.000000  1460.000000   \n",
       "mean    730.500000  180921.195890    57.623288   10516.828082     0.995890   \n",
       "std     421.610009   79442.502883    34.664304    9981.264932     0.063996   \n",
       "min       1.000000   34900.000000     0.000000    1300.000000     0.000000   \n",
       "25%     365.750000  129975.000000    42.000000    7553.500000     1.000000   \n",
       "50%     730.500000  163000.000000    63.000000    9478.500000     1.000000   \n",
       "75%    1095.250000  214000.000000    79.000000   11601.500000     1.000000   \n",
       "max    1460.000000  755000.000000   313.000000  215245.000000     1.000000   \n",
       "\n",
       "             Alley     LotShape  LandContour    Utilities    LandSlope  ...  \\\n",
       "count  1460.000000  1460.000000  1460.000000  1460.000000  1460.000000  ...   \n",
       "mean      0.062329     0.633562     0.897945     0.999315     0.946575  ...   \n",
       "std       0.241835     0.481996     0.302824     0.026171     0.224956  ...   \n",
       "min       0.000000     0.000000     0.000000     0.000000     0.000000  ...   \n",
       "25%       0.000000     0.000000     1.000000     1.000000     1.000000  ...   \n",
       "50%       0.000000     1.000000     1.000000     1.000000     1.000000  ...   \n",
       "75%       0.000000     1.000000     1.000000     1.000000     1.000000  ...   \n",
       "max       1.000000     1.000000     1.000000     1.000000     1.000000  ...   \n",
       "\n",
       "            BrkCmn      BrkFace         None        Stone       Y_2006  \\\n",
       "count  1460.000000  1460.000000  1460.000000  1460.000000  1460.000000   \n",
       "mean      0.010274     0.304795     0.597260     0.087671     0.215068   \n",
       "std       0.100873     0.460478     0.490617     0.282913     0.411011   \n",
       "min       0.000000     0.000000     0.000000     0.000000     0.000000   \n",
       "25%       0.000000     0.000000     0.000000     0.000000     0.000000   \n",
       "50%       0.000000     0.000000     1.000000     0.000000     0.000000   \n",
       "75%       0.000000     1.000000     1.000000     0.000000     0.000000   \n",
       "max       1.000000     1.000000     1.000000     1.000000     1.000000   \n",
       "\n",
       "            Y_2007       Y_2008       Y_2009       Y_2010  log_SalePrice  \n",
       "count  1460.000000  1460.000000  1460.000000  1460.000000    1460.000000  \n",
       "mean      0.225342     0.208219     0.231507     0.119863      12.024051  \n",
       "std       0.417951     0.406174     0.421940     0.324913       0.399452  \n",
       "min       0.000000     0.000000     0.000000     0.000000      10.460242  \n",
       "25%       0.000000     0.000000     0.000000     0.000000      11.775097  \n",
       "50%       0.000000     0.000000     0.000000     0.000000      12.001505  \n",
       "75%       0.000000     0.000000     0.000000     0.000000      12.273731  \n",
       "max       1.000000     1.000000     1.000000     1.000000      13.534473  \n",
       "\n",
       "[8 rows x 111 columns]"
      ]
     },
     "execution_count": 5,
     "metadata": {},
     "output_type": "execute_result"
    }
   ],
   "source": [
    "df.describe()"
   ]
  },
  {
   "cell_type": "code",
   "execution_count": 6,
   "id": "c6cb3252",
   "metadata": {},
   "outputs": [
    {
     "data": {
      "text/html": [
       "<div>\n",
       "<style scoped>\n",
       "    .dataframe tbody tr th:only-of-type {\n",
       "        vertical-align: middle;\n",
       "    }\n",
       "\n",
       "    .dataframe tbody tr th {\n",
       "        vertical-align: top;\n",
       "    }\n",
       "\n",
       "    .dataframe thead th {\n",
       "        text-align: right;\n",
       "    }\n",
       "</style>\n",
       "<table border=\"1\" class=\"dataframe\">\n",
       "  <thead>\n",
       "    <tr style=\"text-align: right;\">\n",
       "      <th></th>\n",
       "      <th>Id</th>\n",
       "      <th>SalePrice</th>\n",
       "      <th>LotFrontage</th>\n",
       "      <th>LotArea</th>\n",
       "      <th>Street</th>\n",
       "      <th>Alley</th>\n",
       "      <th>LotShape</th>\n",
       "      <th>LandContour</th>\n",
       "      <th>Utilities</th>\n",
       "      <th>LandSlope</th>\n",
       "      <th>...</th>\n",
       "      <th>BrkCmn</th>\n",
       "      <th>BrkFace</th>\n",
       "      <th>None</th>\n",
       "      <th>Stone</th>\n",
       "      <th>Y_2006</th>\n",
       "      <th>Y_2007</th>\n",
       "      <th>Y_2008</th>\n",
       "      <th>Y_2009</th>\n",
       "      <th>Y_2010</th>\n",
       "      <th>log_SalePrice</th>\n",
       "    </tr>\n",
       "  </thead>\n",
       "  <tbody>\n",
       "    <tr>\n",
       "      <th>Id</th>\n",
       "      <td>1.000000</td>\n",
       "      <td>-0.021917</td>\n",
       "      <td>-0.019761</td>\n",
       "      <td>-0.033226</td>\n",
       "      <td>0.008916</td>\n",
       "      <td>0.000682</td>\n",
       "      <td>0.030748</td>\n",
       "      <td>-0.015657</td>\n",
       "      <td>-0.013324</td>\n",
       "      <td>-0.019548</td>\n",
       "      <td>...</td>\n",
       "      <td>-0.040379</td>\n",
       "      <td>-0.036425</td>\n",
       "      <td>0.028211</td>\n",
       "      <td>0.024760</td>\n",
       "      <td>0.012036</td>\n",
       "      <td>-0.025269</td>\n",
       "      <td>-0.000348</td>\n",
       "      <td>0.026623</td>\n",
       "      <td>-0.016859</td>\n",
       "      <td>-0.017942</td>\n",
       "    </tr>\n",
       "    <tr>\n",
       "      <th>SalePrice</th>\n",
       "      <td>-0.021917</td>\n",
       "      <td>1.000000</td>\n",
       "      <td>0.209624</td>\n",
       "      <td>0.263843</td>\n",
       "      <td>0.041036</td>\n",
       "      <td>-0.123611</td>\n",
       "      <td>-0.267672</td>\n",
       "      <td>-0.027545</td>\n",
       "      <td>0.014314</td>\n",
       "      <td>-0.051116</td>\n",
       "      <td>...</td>\n",
       "      <td>-0.044394</td>\n",
       "      <td>0.198191</td>\n",
       "      <td>-0.367456</td>\n",
       "      <td>0.330476</td>\n",
       "      <td>0.010732</td>\n",
       "      <td>0.034921</td>\n",
       "      <td>-0.022990</td>\n",
       "      <td>-0.010292</td>\n",
       "      <td>-0.016392</td>\n",
       "      <td>0.948374</td>\n",
       "    </tr>\n",
       "    <tr>\n",
       "      <th>LotFrontage</th>\n",
       "      <td>-0.019761</td>\n",
       "      <td>0.209624</td>\n",
       "      <td>1.000000</td>\n",
       "      <td>0.100739</td>\n",
       "      <td>-0.025107</td>\n",
       "      <td>-0.042656</td>\n",
       "      <td>0.153770</td>\n",
       "      <td>-0.038989</td>\n",
       "      <td>0.043535</td>\n",
       "      <td>0.021940</td>\n",
       "      <td>...</td>\n",
       "      <td>-0.032411</td>\n",
       "      <td>-0.036471</td>\n",
       "      <td>-0.029400</td>\n",
       "      <td>0.121902</td>\n",
       "      <td>0.013099</td>\n",
       "      <td>0.000991</td>\n",
       "      <td>0.005331</td>\n",
       "      <td>-0.026180</td>\n",
       "      <td>0.009489</td>\n",
       "      <td>0.179303</td>\n",
       "    </tr>\n",
       "    <tr>\n",
       "      <th>LotArea</th>\n",
       "      <td>-0.033226</td>\n",
       "      <td>0.263843</td>\n",
       "      <td>0.100739</td>\n",
       "      <td>1.000000</td>\n",
       "      <td>-0.197131</td>\n",
       "      <td>-0.075624</td>\n",
       "      <td>-0.216111</td>\n",
       "      <td>-0.256843</td>\n",
       "      <td>-0.010123</td>\n",
       "      <td>-0.310711</td>\n",
       "      <td>...</td>\n",
       "      <td>0.115884</td>\n",
       "      <td>-0.016388</td>\n",
       "      <td>-0.030547</td>\n",
       "      <td>0.038328</td>\n",
       "      <td>-0.001436</td>\n",
       "      <td>0.018749</td>\n",
       "      <td>0.003642</td>\n",
       "      <td>-0.012244</td>\n",
       "      <td>-0.010954</td>\n",
       "      <td>0.257320</td>\n",
       "    </tr>\n",
       "    <tr>\n",
       "      <th>Street</th>\n",
       "      <td>0.008916</td>\n",
       "      <td>0.041036</td>\n",
       "      <td>-0.025107</td>\n",
       "      <td>-0.197131</td>\n",
       "      <td>1.000000</td>\n",
       "      <td>0.016562</td>\n",
       "      <td>-0.004414</td>\n",
       "      <td>0.119812</td>\n",
       "      <td>-0.001682</td>\n",
       "      <td>0.175177</td>\n",
       "      <td>...</td>\n",
       "      <td>0.006545</td>\n",
       "      <td>-0.003983</td>\n",
       "      <td>-0.009091</td>\n",
       "      <td>0.019913</td>\n",
       "      <td>0.033625</td>\n",
       "      <td>-0.016604</td>\n",
       "      <td>-0.019794</td>\n",
       "      <td>0.035258</td>\n",
       "      <td>-0.042220</td>\n",
       "      <td>0.057369</td>\n",
       "    </tr>\n",
       "    <tr>\n",
       "      <th>...</th>\n",
       "      <td>...</td>\n",
       "      <td>...</td>\n",
       "      <td>...</td>\n",
       "      <td>...</td>\n",
       "      <td>...</td>\n",
       "      <td>...</td>\n",
       "      <td>...</td>\n",
       "      <td>...</td>\n",
       "      <td>...</td>\n",
       "      <td>...</td>\n",
       "      <td>...</td>\n",
       "      <td>...</td>\n",
       "      <td>...</td>\n",
       "      <td>...</td>\n",
       "      <td>...</td>\n",
       "      <td>...</td>\n",
       "      <td>...</td>\n",
       "      <td>...</td>\n",
       "      <td>...</td>\n",
       "      <td>...</td>\n",
       "      <td>...</td>\n",
       "    </tr>\n",
       "    <tr>\n",
       "      <th>Y_2007</th>\n",
       "      <td>-0.025269</td>\n",
       "      <td>0.034921</td>\n",
       "      <td>0.000991</td>\n",
       "      <td>0.018749</td>\n",
       "      <td>-0.016604</td>\n",
       "      <td>-0.010213</td>\n",
       "      <td>-0.011710</td>\n",
       "      <td>-0.051034</td>\n",
       "      <td>0.014120</td>\n",
       "      <td>-0.017666</td>\n",
       "      <td>...</td>\n",
       "      <td>0.042591</td>\n",
       "      <td>0.023941</td>\n",
       "      <td>-0.031750</td>\n",
       "      <td>0.000905</td>\n",
       "      <td>-0.282318</td>\n",
       "      <td>1.000000</td>\n",
       "      <td>-0.276582</td>\n",
       "      <td>-0.296025</td>\n",
       "      <td>-0.199037</td>\n",
       "      <td>0.035951</td>\n",
       "    </tr>\n",
       "    <tr>\n",
       "      <th>Y_2008</th>\n",
       "      <td>-0.000348</td>\n",
       "      <td>-0.022990</td>\n",
       "      <td>0.005331</td>\n",
       "      <td>0.003642</td>\n",
       "      <td>-0.019794</td>\n",
       "      <td>0.056185</td>\n",
       "      <td>0.001391</td>\n",
       "      <td>-0.011007</td>\n",
       "      <td>0.013425</td>\n",
       "      <td>-0.013194</td>\n",
       "      <td>...</td>\n",
       "      <td>-0.018791</td>\n",
       "      <td>0.001255</td>\n",
       "      <td>0.008368</td>\n",
       "      <td>-0.009854</td>\n",
       "      <td>-0.268430</td>\n",
       "      <td>-0.276582</td>\n",
       "      <td>1.000000</td>\n",
       "      <td>-0.281462</td>\n",
       "      <td>-0.189245</td>\n",
       "      <td>-0.012644</td>\n",
       "    </tr>\n",
       "    <tr>\n",
       "      <th>Y_2009</th>\n",
       "      <td>0.026623</td>\n",
       "      <td>-0.010292</td>\n",
       "      <td>-0.026180</td>\n",
       "      <td>-0.012244</td>\n",
       "      <td>0.035258</td>\n",
       "      <td>-0.007168</td>\n",
       "      <td>0.006256</td>\n",
       "      <td>0.008017</td>\n",
       "      <td>-0.047699</td>\n",
       "      <td>0.022078</td>\n",
       "      <td>...</td>\n",
       "      <td>-0.007611</td>\n",
       "      <td>-0.045932</td>\n",
       "      <td>0.007039</td>\n",
       "      <td>0.065267</td>\n",
       "      <td>-0.287299</td>\n",
       "      <td>-0.296025</td>\n",
       "      <td>-0.281462</td>\n",
       "      <td>1.000000</td>\n",
       "      <td>-0.202549</td>\n",
       "      <td>-0.021048</td>\n",
       "    </tr>\n",
       "    <tr>\n",
       "      <th>Y_2010</th>\n",
       "      <td>-0.016859</td>\n",
       "      <td>-0.016392</td>\n",
       "      <td>0.009489</td>\n",
       "      <td>-0.010954</td>\n",
       "      <td>-0.042220</td>\n",
       "      <td>-0.042808</td>\n",
       "      <td>0.035567</td>\n",
       "      <td>0.040818</td>\n",
       "      <td>0.009661</td>\n",
       "      <td>0.003276</td>\n",
       "      <td>...</td>\n",
       "      <td>-0.016687</td>\n",
       "      <td>-0.001553</td>\n",
       "      <td>0.002061</td>\n",
       "      <td>0.004903</td>\n",
       "      <td>-0.193170</td>\n",
       "      <td>-0.199037</td>\n",
       "      <td>-0.189245</td>\n",
       "      <td>-0.202549</td>\n",
       "      <td>1.000000</td>\n",
       "      <td>-0.021236</td>\n",
       "    </tr>\n",
       "    <tr>\n",
       "      <th>log_SalePrice</th>\n",
       "      <td>-0.017942</td>\n",
       "      <td>0.948374</td>\n",
       "      <td>0.179303</td>\n",
       "      <td>0.257320</td>\n",
       "      <td>0.057369</td>\n",
       "      <td>-0.132336</td>\n",
       "      <td>-0.289635</td>\n",
       "      <td>-0.010080</td>\n",
       "      <td>0.012632</td>\n",
       "      <td>-0.036746</td>\n",
       "      <td>...</td>\n",
       "      <td>-0.043583</td>\n",
       "      <td>0.231447</td>\n",
       "      <td>-0.387818</td>\n",
       "      <td>0.311369</td>\n",
       "      <td>0.014333</td>\n",
       "      <td>0.035951</td>\n",
       "      <td>-0.012644</td>\n",
       "      <td>-0.021048</td>\n",
       "      <td>-0.021236</td>\n",
       "      <td>1.000000</td>\n",
       "    </tr>\n",
       "  </tbody>\n",
       "</table>\n",
       "<p>111 rows × 111 columns</p>\n",
       "</div>"
      ],
      "text/plain": [
       "                     Id  SalePrice  LotFrontage   LotArea    Street     Alley  \\\n",
       "Id             1.000000  -0.021917    -0.019761 -0.033226  0.008916  0.000682   \n",
       "SalePrice     -0.021917   1.000000     0.209624  0.263843  0.041036 -0.123611   \n",
       "LotFrontage   -0.019761   0.209624     1.000000  0.100739 -0.025107 -0.042656   \n",
       "LotArea       -0.033226   0.263843     0.100739  1.000000 -0.197131 -0.075624   \n",
       "Street         0.008916   0.041036    -0.025107 -0.197131  1.000000  0.016562   \n",
       "...                 ...        ...          ...       ...       ...       ...   \n",
       "Y_2007        -0.025269   0.034921     0.000991  0.018749 -0.016604 -0.010213   \n",
       "Y_2008        -0.000348  -0.022990     0.005331  0.003642 -0.019794  0.056185   \n",
       "Y_2009         0.026623  -0.010292    -0.026180 -0.012244  0.035258 -0.007168   \n",
       "Y_2010        -0.016859  -0.016392     0.009489 -0.010954 -0.042220 -0.042808   \n",
       "log_SalePrice -0.017942   0.948374     0.179303  0.257320  0.057369 -0.132336   \n",
       "\n",
       "               LotShape  LandContour  Utilities  LandSlope  ...    BrkCmn  \\\n",
       "Id             0.030748    -0.015657  -0.013324  -0.019548  ... -0.040379   \n",
       "SalePrice     -0.267672    -0.027545   0.014314  -0.051116  ... -0.044394   \n",
       "LotFrontage    0.153770    -0.038989   0.043535   0.021940  ... -0.032411   \n",
       "LotArea       -0.216111    -0.256843  -0.010123  -0.310711  ...  0.115884   \n",
       "Street        -0.004414     0.119812  -0.001682   0.175177  ...  0.006545   \n",
       "...                 ...          ...        ...        ...  ...       ...   \n",
       "Y_2007        -0.011710    -0.051034   0.014120  -0.017666  ...  0.042591   \n",
       "Y_2008         0.001391    -0.011007   0.013425  -0.013194  ... -0.018791   \n",
       "Y_2009         0.006256     0.008017  -0.047699   0.022078  ... -0.007611   \n",
       "Y_2010         0.035567     0.040818   0.009661   0.003276  ... -0.016687   \n",
       "log_SalePrice -0.289635    -0.010080   0.012632  -0.036746  ... -0.043583   \n",
       "\n",
       "                BrkFace      None     Stone    Y_2006    Y_2007    Y_2008  \\\n",
       "Id            -0.036425  0.028211  0.024760  0.012036 -0.025269 -0.000348   \n",
       "SalePrice      0.198191 -0.367456  0.330476  0.010732  0.034921 -0.022990   \n",
       "LotFrontage   -0.036471 -0.029400  0.121902  0.013099  0.000991  0.005331   \n",
       "LotArea       -0.016388 -0.030547  0.038328 -0.001436  0.018749  0.003642   \n",
       "Street        -0.003983 -0.009091  0.019913  0.033625 -0.016604 -0.019794   \n",
       "...                 ...       ...       ...       ...       ...       ...   \n",
       "Y_2007         0.023941 -0.031750  0.000905 -0.282318  1.000000 -0.276582   \n",
       "Y_2008         0.001255  0.008368 -0.009854 -0.268430 -0.276582  1.000000   \n",
       "Y_2009        -0.045932  0.007039  0.065267 -0.287299 -0.296025 -0.281462   \n",
       "Y_2010        -0.001553  0.002061  0.004903 -0.193170 -0.199037 -0.189245   \n",
       "log_SalePrice  0.231447 -0.387818  0.311369  0.014333  0.035951 -0.012644   \n",
       "\n",
       "                 Y_2009    Y_2010  log_SalePrice  \n",
       "Id             0.026623 -0.016859      -0.017942  \n",
       "SalePrice     -0.010292 -0.016392       0.948374  \n",
       "LotFrontage   -0.026180  0.009489       0.179303  \n",
       "LotArea       -0.012244 -0.010954       0.257320  \n",
       "Street         0.035258 -0.042220       0.057369  \n",
       "...                 ...       ...            ...  \n",
       "Y_2007        -0.296025 -0.199037       0.035951  \n",
       "Y_2008        -0.281462 -0.189245      -0.012644  \n",
       "Y_2009         1.000000 -0.202549      -0.021048  \n",
       "Y_2010        -0.202549  1.000000      -0.021236  \n",
       "log_SalePrice -0.021048 -0.021236       1.000000  \n",
       "\n",
       "[111 rows x 111 columns]"
      ]
     },
     "execution_count": 6,
     "metadata": {},
     "output_type": "execute_result"
    }
   ],
   "source": [
    "df.corr()"
   ]
  },
  {
   "cell_type": "markdown",
   "id": "ee93628e",
   "metadata": {},
   "source": [
    "The data has 111 features including Id and it is difficult to understand what features are related to the response variable of SalePrice. So, we will calculate the coefficient of variation to select what variables have the largest variability. These variables can have influence on the response variable. In this descriptive analysis, we would look at these variables."
   ]
  },
  {
   "cell_type": "code",
   "execution_count": 7,
   "id": "bb1b4f25",
   "metadata": {},
   "outputs": [],
   "source": [
    "#calculate the coefficiation of variation\n",
    "predictors_cv = df[predictors]\n",
    "cv = dict()\n",
    "for v in predictors:\n",
    "    variability = np.std(predictors_cv[v].values.tolist())/np.mean(predictors_cv[v].values.tolist())\n",
    "    cv[v] = variability"
   ]
  },
  {
   "cell_type": "code",
   "execution_count": 8,
   "id": "5b1b5242",
   "metadata": {},
   "outputs": [
    {
     "data": {
      "text/plain": [
       "['Blueste',\n",
       " 'FR3',\n",
       " 'PoolArea',\n",
       " '2.5Fin',\n",
       " 'NPkVill',\n",
       " 'Veenker',\n",
       " '2.5Unf',\n",
       " '1.5Unf',\n",
       " 'BrkCmn',\n",
       " 'BrDale',\n",
       " 'Blmngtn',\n",
       " 'log_SalePrice']"
      ]
     },
     "execution_count": 8,
     "metadata": {},
     "output_type": "execute_result"
    }
   ],
   "source": [
    "#select 10 features that have the highest CV\n",
    "cv_sort=sorted(cv.items(), key=lambda x: x[1], reverse=True)\n",
    "\n",
    "#take keys to make scatter plots\n",
    "key_feature = []\n",
    "for i in range (0,11):\n",
    "    key_feature.append(cv_sort[i][0])\n",
    "\n",
    "#append the response to key features\n",
    "key_feature.append(response[0])\n",
    "key_feature"
   ]
  },
  {
   "cell_type": "code",
   "execution_count": 9,
   "id": "9dc47a2a",
   "metadata": {},
   "outputs": [
    {
     "data": {
      "text/html": [
       "<div>\n",
       "<style scoped>\n",
       "    .dataframe tbody tr th:only-of-type {\n",
       "        vertical-align: middle;\n",
       "    }\n",
       "\n",
       "    .dataframe tbody tr th {\n",
       "        vertical-align: top;\n",
       "    }\n",
       "\n",
       "    .dataframe thead th {\n",
       "        text-align: right;\n",
       "    }\n",
       "</style>\n",
       "<table border=\"1\" class=\"dataframe\">\n",
       "  <thead>\n",
       "    <tr style=\"text-align: right;\">\n",
       "      <th></th>\n",
       "      <th>Blueste</th>\n",
       "      <th>FR3</th>\n",
       "      <th>PoolArea</th>\n",
       "      <th>2.5Fin</th>\n",
       "      <th>NPkVill</th>\n",
       "      <th>Veenker</th>\n",
       "      <th>2.5Unf</th>\n",
       "      <th>1.5Unf</th>\n",
       "      <th>BrkCmn</th>\n",
       "      <th>BrDale</th>\n",
       "      <th>Blmngtn</th>\n",
       "      <th>log_SalePrice</th>\n",
       "    </tr>\n",
       "  </thead>\n",
       "  <tbody>\n",
       "    <tr>\n",
       "      <th>count</th>\n",
       "      <td>1460.000000</td>\n",
       "      <td>1460.000000</td>\n",
       "      <td>1460.000000</td>\n",
       "      <td>1460.000000</td>\n",
       "      <td>1460.000000</td>\n",
       "      <td>1460.000000</td>\n",
       "      <td>1460.000000</td>\n",
       "      <td>1460.000000</td>\n",
       "      <td>1460.000000</td>\n",
       "      <td>1460.000000</td>\n",
       "      <td>1460.000000</td>\n",
       "      <td>1460.000000</td>\n",
       "    </tr>\n",
       "    <tr>\n",
       "      <th>mean</th>\n",
       "      <td>0.001370</td>\n",
       "      <td>0.002740</td>\n",
       "      <td>2.758904</td>\n",
       "      <td>0.005479</td>\n",
       "      <td>0.006164</td>\n",
       "      <td>0.007534</td>\n",
       "      <td>0.007534</td>\n",
       "      <td>0.009589</td>\n",
       "      <td>0.010274</td>\n",
       "      <td>0.010959</td>\n",
       "      <td>0.011644</td>\n",
       "      <td>12.024051</td>\n",
       "    </tr>\n",
       "    <tr>\n",
       "      <th>std</th>\n",
       "      <td>0.036999</td>\n",
       "      <td>0.052289</td>\n",
       "      <td>40.177307</td>\n",
       "      <td>0.073846</td>\n",
       "      <td>0.078298</td>\n",
       "      <td>0.086502</td>\n",
       "      <td>0.086502</td>\n",
       "      <td>0.097486</td>\n",
       "      <td>0.100873</td>\n",
       "      <td>0.104145</td>\n",
       "      <td>0.107313</td>\n",
       "      <td>0.399452</td>\n",
       "    </tr>\n",
       "    <tr>\n",
       "      <th>min</th>\n",
       "      <td>0.000000</td>\n",
       "      <td>0.000000</td>\n",
       "      <td>0.000000</td>\n",
       "      <td>0.000000</td>\n",
       "      <td>0.000000</td>\n",
       "      <td>0.000000</td>\n",
       "      <td>0.000000</td>\n",
       "      <td>0.000000</td>\n",
       "      <td>0.000000</td>\n",
       "      <td>0.000000</td>\n",
       "      <td>0.000000</td>\n",
       "      <td>10.460242</td>\n",
       "    </tr>\n",
       "    <tr>\n",
       "      <th>25%</th>\n",
       "      <td>0.000000</td>\n",
       "      <td>0.000000</td>\n",
       "      <td>0.000000</td>\n",
       "      <td>0.000000</td>\n",
       "      <td>0.000000</td>\n",
       "      <td>0.000000</td>\n",
       "      <td>0.000000</td>\n",
       "      <td>0.000000</td>\n",
       "      <td>0.000000</td>\n",
       "      <td>0.000000</td>\n",
       "      <td>0.000000</td>\n",
       "      <td>11.775097</td>\n",
       "    </tr>\n",
       "    <tr>\n",
       "      <th>50%</th>\n",
       "      <td>0.000000</td>\n",
       "      <td>0.000000</td>\n",
       "      <td>0.000000</td>\n",
       "      <td>0.000000</td>\n",
       "      <td>0.000000</td>\n",
       "      <td>0.000000</td>\n",
       "      <td>0.000000</td>\n",
       "      <td>0.000000</td>\n",
       "      <td>0.000000</td>\n",
       "      <td>0.000000</td>\n",
       "      <td>0.000000</td>\n",
       "      <td>12.001505</td>\n",
       "    </tr>\n",
       "    <tr>\n",
       "      <th>75%</th>\n",
       "      <td>0.000000</td>\n",
       "      <td>0.000000</td>\n",
       "      <td>0.000000</td>\n",
       "      <td>0.000000</td>\n",
       "      <td>0.000000</td>\n",
       "      <td>0.000000</td>\n",
       "      <td>0.000000</td>\n",
       "      <td>0.000000</td>\n",
       "      <td>0.000000</td>\n",
       "      <td>0.000000</td>\n",
       "      <td>0.000000</td>\n",
       "      <td>12.273731</td>\n",
       "    </tr>\n",
       "    <tr>\n",
       "      <th>max</th>\n",
       "      <td>1.000000</td>\n",
       "      <td>1.000000</td>\n",
       "      <td>738.000000</td>\n",
       "      <td>1.000000</td>\n",
       "      <td>1.000000</td>\n",
       "      <td>1.000000</td>\n",
       "      <td>1.000000</td>\n",
       "      <td>1.000000</td>\n",
       "      <td>1.000000</td>\n",
       "      <td>1.000000</td>\n",
       "      <td>1.000000</td>\n",
       "      <td>13.534473</td>\n",
       "    </tr>\n",
       "  </tbody>\n",
       "</table>\n",
       "</div>"
      ],
      "text/plain": [
       "           Blueste          FR3     PoolArea       2.5Fin      NPkVill  \\\n",
       "count  1460.000000  1460.000000  1460.000000  1460.000000  1460.000000   \n",
       "mean      0.001370     0.002740     2.758904     0.005479     0.006164   \n",
       "std       0.036999     0.052289    40.177307     0.073846     0.078298   \n",
       "min       0.000000     0.000000     0.000000     0.000000     0.000000   \n",
       "25%       0.000000     0.000000     0.000000     0.000000     0.000000   \n",
       "50%       0.000000     0.000000     0.000000     0.000000     0.000000   \n",
       "75%       0.000000     0.000000     0.000000     0.000000     0.000000   \n",
       "max       1.000000     1.000000   738.000000     1.000000     1.000000   \n",
       "\n",
       "           Veenker       2.5Unf       1.5Unf       BrkCmn       BrDale  \\\n",
       "count  1460.000000  1460.000000  1460.000000  1460.000000  1460.000000   \n",
       "mean      0.007534     0.007534     0.009589     0.010274     0.010959   \n",
       "std       0.086502     0.086502     0.097486     0.100873     0.104145   \n",
       "min       0.000000     0.000000     0.000000     0.000000     0.000000   \n",
       "25%       0.000000     0.000000     0.000000     0.000000     0.000000   \n",
       "50%       0.000000     0.000000     0.000000     0.000000     0.000000   \n",
       "75%       0.000000     0.000000     0.000000     0.000000     0.000000   \n",
       "max       1.000000     1.000000     1.000000     1.000000     1.000000   \n",
       "\n",
       "           Blmngtn  log_SalePrice  \n",
       "count  1460.000000    1460.000000  \n",
       "mean      0.011644      12.024051  \n",
       "std       0.107313       0.399452  \n",
       "min       0.000000      10.460242  \n",
       "25%       0.000000      11.775097  \n",
       "50%       0.000000      12.001505  \n",
       "75%       0.000000      12.273731  \n",
       "max       1.000000      13.534473  "
      ]
     },
     "execution_count": 9,
     "metadata": {},
     "output_type": "execute_result"
    }
   ],
   "source": [
    "key_features = df[key_feature]\n",
    "key_features.describe()"
   ]
  },
  {
   "cell_type": "code",
   "execution_count": 10,
   "id": "508a19af",
   "metadata": {},
   "outputs": [
    {
     "data": {
      "image/png": "[encoded data removed]",
      "text/plain": [
       "<Figure size 2160x2160 with 156 Axes>"
      ]
     },
     "metadata": {
      "needs_background": "light"
     },
     "output_type": "display_data"
    }
   ],
   "source": [
    "# Make scatterplots of the independent variables in the dataset\n",
    "pairplot_fig = sns.pairplot(key_features, vars=key_feature)\n",
    "plt.subplots_adjust(top=0.95)\n",
    "pairplot_fig.fig.suptitle(\"Scatterplots of the predictors in the data set\", fontsize=18, alpha=0.9, weight='bold')\n",
    "plt.show()"
   ]
  },
  {
   "cell_type": "markdown",
   "id": "f64cb54a",
   "metadata": {},
   "source": [
    "Most of the variables are dummies. So, the variances of the predicters would make the model less precise and less efficient. The observations would be larger than the degree of freedom given its 1,460 observations. Still, an OLS model would suffer from its inefficiency for prediction because of a number of dummy variables."
   ]
  },
  {
   "cell_type": "code",
   "execution_count": 11,
   "id": "e210497e",
   "metadata": {},
   "outputs": [
    {
     "data": {
      "text/plain": [
       "<AxesSubplot:xlabel='Blmngtn', ylabel='log_SalePrice'>"
      ]
     },
     "execution_count": 11,
     "metadata": {},
     "output_type": "execute_result"
    },
    {
     "data": {
      "image/png": "[encoded data removed]",
      "text/plain": [
       "<Figure size 1440x1080 with 12 Axes>"
      ]
     },
     "metadata": {
      "needs_background": "light"
     },
     "output_type": "display_data"
    }
   ],
   "source": [
    "# Make boxplots for each of the independent variable\n",
    "fig, axes = plt.subplots(4, 3, figsize=(20,15))\n",
    "plt.subplots_adjust(top=0.95)\n",
    "fig.suptitle('Distribution of Independent Variables', fontsize=18, alpha=0.9, weight='bold')\n",
    "\n",
    "sns.boxplot(ax=axes[0, 0], x=key_feature[0], y=response[0], data=key_features, orient='v')\n",
    "sns.boxplot(ax=axes[0, 1], x=key_feature[1], y=response[0], data=key_features, orient='v')\n",
    "sns.boxplot(ax=axes[0, 2], x=key_feature[2], y=response[0], data=key_features, orient='v')\n",
    "sns.boxplot(ax=axes[1, 0], x=key_feature[3], y=response[0], data=key_features, orient='v')\n",
    "sns.boxplot(ax=axes[1, 1], x=key_feature[4], y=response[0], data=key_features, orient='v')\n",
    "sns.boxplot(ax=axes[1, 2], x=key_feature[5], y=response[0], data=key_features, orient='v')\n",
    "sns.boxplot(ax=axes[2, 0], x=key_feature[6], y=response[0], data=key_features, orient='v')\n",
    "sns.boxplot(ax=axes[2, 1], x=key_feature[7], y=response[0], data=key_features, orient='v')\n",
    "sns.boxplot(ax=axes[2, 2], x=key_feature[8], y=response[0], data=key_features, orient='v')\n",
    "sns.boxplot(ax=axes[3, 0], x=key_feature[9], y=response[0], data=key_features, orient='v')\n",
    "sns.boxplot(ax=axes[3, 1], x=key_feature[10], y=response[0], data=key_features, orient='v')"
   ]
  },
  {
   "cell_type": "markdown",
   "id": "ccfba508",
   "metadata": {},
   "source": [
    "# 3. Fitting"
   ]
  },
  {
   "cell_type": "markdown",
   "id": "cc2397d1",
   "metadata": {},
   "source": [
    "## a. Split Train/Test sets"
   ]
  },
  {
   "cell_type": "code",
   "execution_count": 12,
   "id": "2362e23d",
   "metadata": {},
   "outputs": [],
   "source": [
    "# feature scaling: important for optimal performance especially if algorithm\n",
    "# uses gradient descent or requires regularization\n",
    "y = df[response]\n",
    "X = df[predictors]"
   ]
  },
  {
   "cell_type": "code",
   "execution_count": 13,
   "id": "8abfd8d4",
   "metadata": {},
   "outputs": [],
   "source": [
    "# split data into 70/30 training and test sets\n",
    "X_train, X_test, y_train, y_test = train_test_split(X, y, test_size=0.3, random_state=20220506)"
   ]
  },
  {
   "cell_type": "code",
   "execution_count": 14,
   "id": "cac45c51",
   "metadata": {},
   "outputs": [],
   "source": [
    "#Drop Id, Categorical, and Dummy Features\n",
    "temp = X_train.loc[:,(X_train.max()!=1)]\n",
    "notdummies = temp.loc[:,(temp.dtypes!=\"object\")].columns"
   ]
  },
  {
   "cell_type": "code",
   "execution_count": 15,
   "id": "9d7d4f1a",
   "metadata": {},
   "outputs": [
    {
     "name": "stderr",
     "output_type": "stream",
     "text": [
      "<ipython-input-15-93fd6235bc10>:5: SettingWithCopyWarning: \n",
      "A value is trying to be set on a copy of a slice from a DataFrame.\n",
      "Try using .loc[row_indexer,col_indexer] = value instead\n",
      "\n",
      "See the caveats in the documentation: https://pandas.pydata.org/pandas-docs/stable/user_guide/indexing.html#returning-a-view-versus-a-copy\n",
      "  X_train[notdummies] = scaler.transform(X_train[notdummies])\n",
      "C:\\Users\\COM\\Anaconda3\\envs\\ppd599\\lib\\site-packages\\pandas\\core\\indexing.py:1738: SettingWithCopyWarning: \n",
      "A value is trying to be set on a copy of a slice from a DataFrame.\n",
      "Try using .loc[row_indexer,col_indexer] = value instead\n",
      "\n",
      "See the caveats in the documentation: https://pandas.pydata.org/pandas-docs/stable/user_guide/indexing.html#returning-a-view-versus-a-copy\n",
      "  self._setitem_single_column(loc, value[:, i].tolist(), pi)\n",
      "<ipython-input-15-93fd6235bc10>:7: SettingWithCopyWarning: \n",
      "A value is trying to be set on a copy of a slice from a DataFrame.\n",
      "Try using .loc[row_indexer,col_indexer] = value instead\n",
      "\n",
      "See the caveats in the documentation: https://pandas.pydata.org/pandas-docs/stable/user_guide/indexing.html#returning-a-view-versus-a-copy\n",
      "  X_test[notdummies] = scaler.transform(X_test[notdummies])\n",
      "C:\\Users\\COM\\Anaconda3\\envs\\ppd599\\lib\\site-packages\\pandas\\core\\indexing.py:1738: SettingWithCopyWarning: \n",
      "A value is trying to be set on a copy of a slice from a DataFrame.\n",
      "Try using .loc[row_indexer,col_indexer] = value instead\n",
      "\n",
      "See the caveats in the documentation: https://pandas.pydata.org/pandas-docs/stable/user_guide/indexing.html#returning-a-view-versus-a-copy\n",
      "  self._setitem_single_column(loc, value[:, i].tolist(), pi)\n"
     ]
    }
   ],
   "source": [
    "from sklearn.preprocessing import StandardScaler\n",
    "\n",
    "scaler = StandardScaler().fit(X_train[notdummies]) \n",
    "\n",
    "X_train[notdummies] = scaler.transform(X_train[notdummies])\n",
    "\n",
    "X_test[notdummies] = scaler.transform(X_test[notdummies])"
   ]
  },
  {
   "cell_type": "markdown",
   "id": "90c2106e",
   "metadata": {},
   "source": [
    "## b. Define Function"
   ]
  },
  {
   "cell_type": "code",
   "execution_count": 16,
   "id": "a9cb7882",
   "metadata": {},
   "outputs": [],
   "source": [
    "def model_validation(X_train=X_train, X_test=X_test, y_train=y_train, y_test=y_test, mod=1, param=[i for i in range(10)]):\n",
    "    \"\"\"\n",
    "    This returns error rates of train and test sets by fitting train set to the selected model\n",
    "    ----------\n",
    "    X_train, X_test, y_train, y_test = splited data set\n",
    "    mod = 1.LinearRegression; 2.Primary Component Regression; 3.Ridge Regression; 4.Lasso Regression; 5.Random Forest\n",
    "    param_set = list of parameter\n",
    "    -------\n",
    "    return list\n",
    "    \"\"\"\n",
    "    train_error=[]\n",
    "    test_error=[]\n",
    "    for i in param:\n",
    "        # Linear Regression\n",
    "        if mod==1:\n",
    "#             print(\"Linear Regression\")\n",
    "            model=LinearRegression()\n",
    "            model.fit(X_train, y_train)\n",
    "            train_error.append(round(1-model.score(X_train, y_train),3))\n",
    "            test_error.append(round(1-model.score(X_test, y_test),3))\n",
    "\n",
    "        # PCA Regression\n",
    "        elif mod==2:\n",
    "#             print(\"PCA Regression\")\n",
    "            pca=PCA(n_components=i)\n",
    "            X_train_reduced = pca.fit_transform(X_train)\n",
    "            X_test_reduced = pca.fit_transform(X_test)\n",
    "            model=LinearRegression()\n",
    "            y_pred=model.fit(X_train_reduced, y_train).predict(X_train_reduced)\n",
    "            y_pred1=model.fit(X_train_reduced, y_train).predict(X_test_reduced)\n",
    "            train_error.append(round(1-r2_score(y_train, y_pred),3))\n",
    "            test_error.append(round(1-r2_score(y_test, y_pred1),3))\n",
    "                        \n",
    "        # Ridge Regression\n",
    "        elif mod==3:\n",
    "#             print(\"Ridge Regression\")\n",
    "            model=Ridge(alpha=10**i)\n",
    "            y_pred=model.fit(X_train, y_train).predict(X_train)\n",
    "            y_pred1=model.fit(X_train, y_train).predict(X_test)\n",
    "            train_error.append(round(1-r2_score(y_train, y_pred),3))\n",
    "            test_error.append(round(1-r2_score(y_test, y_pred1),3))\n",
    "\n",
    "        # Lasso Regression\n",
    "        elif mod==4:\n",
    "#             print(\"Lasso Regression\")\n",
    "            model=Lasso(alpha=10**i, max_iter=10000000)\n",
    "            y_pred=model.fit(X_train, y_train).predict(X_train)\n",
    "            y_pred1=model.fit(X_train, y_train).predict(X_test)\n",
    "            train_error.append(round(1-r2_score(y_train, y_pred),3))\n",
    "            test_error.append(round(1-r2_score(y_test, y_pred1),3))\n",
    "        \n",
    "    return train_error, test_error"
   ]
  },
  {
   "cell_type": "markdown",
   "id": "70da2969",
   "metadata": {},
   "source": [
    "## Linear Models"
   ]
  },
  {
   "cell_type": "markdown",
   "id": "4544a4f6",
   "metadata": {},
   "source": [
    "### a. Linear Regression"
   ]
  },
  {
   "cell_type": "code",
   "execution_count": 17,
   "id": "77389f01",
   "metadata": {},
   "outputs": [],
   "source": [
    "M_set = [M for M in range (0, 6)]\n",
    "train, test = model_validation(X_train, X_test, y_train, y_test, mod=1, param=M_set)"
   ]
  },
  {
   "cell_type": "code",
   "execution_count": 18,
   "id": "7ea051ce",
   "metadata": {},
   "outputs": [
    {
     "data": {
      "image/png": "[encoded data removed]",
      "text/plain": [
       "<Figure size 432x288 with 1 Axes>"
      ]
     },
     "metadata": {
      "needs_background": "light"
     },
     "output_type": "display_data"
    }
   ],
   "source": [
    "# Visulaization of Train and Test Errors\n",
    "plt.title('Linear Regression: Train and Test Errors')\n",
    "plt.plot(M_set, train, label = 'Train Errors')\n",
    "plt.plot(M_set, test, label = 'Test Errors')\n",
    "plt.legend()\n",
    "plt.xlabel('')\n",
    "plt.ylabel('Errors')\n",
    "plt.show()"
   ]
  },
  {
   "cell_type": "markdown",
   "id": "441670c1",
   "metadata": {},
   "source": [
    "This plot represents the error rates for train and test sets using a model. This figure shows the result of fitting to OLS model. While the train errors look almost zero, the test errors are too large to interpret. This is because OLS model is overfitting the train data set so the fitted model does not work in the prediction using test set."
   ]
  },
  {
   "cell_type": "markdown",
   "id": "a536c7ec",
   "metadata": {},
   "source": [
    "### b. Primary Component Regression"
   ]
  },
  {
   "cell_type": "code",
   "execution_count": 19,
   "id": "78828f30",
   "metadata": {
    "tags": []
   },
   "outputs": [],
   "source": [
    "M_set = [M for M in range (2, 90, 1)]\n",
    "train_PCR, test_PCR = model_validation(X_train, X_test, y_train, y_test, mod=2, param=M_set)"
   ]
  },
  {
   "cell_type": "code",
   "execution_count": 20,
   "id": "c2414d44",
   "metadata": {},
   "outputs": [
    {
     "data": {
      "image/png": "[encoded data removed]",
      "text/plain": [
       "<Figure size 432x288 with 1 Axes>"
      ]
     },
     "metadata": {
      "needs_background": "light"
     },
     "output_type": "display_data"
    }
   ],
   "source": [
    "# Visulaization of Train and Test Errors\n",
    "plt.title('Primary Component Regression: Train and Test Errors')\n",
    "plt.plot(M_set, train_PCR, label = 'Train Errors')\n",
    "plt.plot(M_set, test_PCR, label = 'Test Errors')\n",
    "plt.legend()\n",
    "plt.xlabel('Number of Primary Component')\n",
    "plt.ylabel('Errors')\n",
    "plt.show()"
   ]
  },
  {
   "cell_type": "markdown",
   "id": "4a9db514",
   "metadata": {},
   "source": [
    "We test the PC regression models by changing the number of primary component from 2 to 90). From the error plot, we can see the train errors would decrease as the number of primary component increases. Like OLS model, the more variables in a PC Regression model, the more overfitting to the train set. Test errors increase in a model with more primary components. When the number of PC was 4, the test error became the lowest value. We chose 4 as the number of PC. "
   ]
  },
  {
   "cell_type": "code",
   "execution_count": 21,
   "id": "2b118d48",
   "metadata": {},
   "outputs": [
    {
     "data": {
      "text/plain": [
       "0.164"
      ]
     },
     "execution_count": 21,
     "metadata": {},
     "output_type": "execute_result"
    }
   ],
   "source": [
    "min(test_PCR)"
   ]
  },
  {
   "cell_type": "code",
   "execution_count": 22,
   "id": "0366473f",
   "metadata": {},
   "outputs": [
    {
     "data": {
      "text/plain": [
       "0.164"
      ]
     },
     "execution_count": 22,
     "metadata": {},
     "output_type": "execute_result"
    }
   ],
   "source": [
    "test_PCR[1]"
   ]
  },
  {
   "cell_type": "code",
   "execution_count": 23,
   "id": "61a68267",
   "metadata": {},
   "outputs": [
    {
     "data": {
      "text/plain": [
       "3"
      ]
     },
     "execution_count": 23,
     "metadata": {},
     "output_type": "execute_result"
    }
   ],
   "source": [
    "M_set[1]"
   ]
  },
  {
   "cell_type": "markdown",
   "id": "6a93fb0a",
   "metadata": {},
   "source": [
    "### c. Ridge Regression"
   ]
  },
  {
   "cell_type": "code",
   "execution_count": 24,
   "id": "fe799b4e",
   "metadata": {
    "tags": []
   },
   "outputs": [],
   "source": [
    "M_set = [M for M in range (-5, 5, 1)]\n",
    "alpha = [10**M for M in range (-5, 5, 1)]\n",
    "train_ridge, test_ridge = model_validation(X_train, X_test, y_train, y_test, mod=3, param=M_set)"
   ]
  },
  {
   "cell_type": "code",
   "execution_count": 25,
   "id": "13142f41",
   "metadata": {},
   "outputs": [
    {
     "data": {
      "image/png": "[encoded data removed]",
      "text/plain": [
       "<Figure size 432x288 with 1 Axes>"
      ]
     },
     "metadata": {
      "needs_background": "light"
     },
     "output_type": "display_data"
    }
   ],
   "source": [
    "# Visulaization of Train and Test Errors\n",
    "plt.title('Ridge Regression: Train and Test Errors')\n",
    "plt.plot(M_set, train_ridge, label = 'Train Errors')\n",
    "plt.plot(M_set, test_ridge, label = 'Test Errors')\n",
    "plt.legend()\n",
    "plt.xlabel('i for 10 power of i')\n",
    "plt.ylabel('Errors')\n",
    "plt.show()"
   ]
  },
  {
   "cell_type": "markdown",
   "id": "900436d9",
   "metadata": {},
   "source": [
    "We test the ridge regression by changing the parameter, lambda, from $10^{-5}$ to $10^{4}$. From the plot, the train and test errors have similar pattern unlike PCR. When the lambda was 10, the test error was at the minimum. We chose 10 as a lambda for our ridge model in prediction."
   ]
  },
  {
   "cell_type": "code",
   "execution_count": 26,
   "id": "6f92d73b",
   "metadata": {},
   "outputs": [
    {
     "data": {
      "text/plain": [
       "0.099"
      ]
     },
     "execution_count": 26,
     "metadata": {},
     "output_type": "execute_result"
    }
   ],
   "source": [
    "min(test_ridge)"
   ]
  },
  {
   "cell_type": "code",
   "execution_count": 27,
   "id": "f2da7176",
   "metadata": {},
   "outputs": [
    {
     "data": {
      "text/plain": [
       "0.099"
      ]
     },
     "execution_count": 27,
     "metadata": {},
     "output_type": "execute_result"
    }
   ],
   "source": [
    "test_ridge[6]"
   ]
  },
  {
   "cell_type": "code",
   "execution_count": 28,
   "id": "7d38a5e0",
   "metadata": {},
   "outputs": [
    {
     "data": {
      "text/plain": [
       "1"
      ]
     },
     "execution_count": 28,
     "metadata": {},
     "output_type": "execute_result"
    }
   ],
   "source": [
    "M_set[6]"
   ]
  },
  {
   "cell_type": "markdown",
   "id": "7cf04072",
   "metadata": {},
   "source": [
    "### d. Lasso Regression"
   ]
  },
  {
   "cell_type": "code",
   "execution_count": 29,
   "id": "d3e49d97",
   "metadata": {
    "tags": []
   },
   "outputs": [],
   "source": [
    "M_set = [M for M in range (-6, 0, 1)]\n",
    "alpha = [10**M for M in range (-6, 0, 1)]\n",
    "train_lasso, test_lasso = model_validation(X_train, X_test, y_train, y_test, mod=4, param=M_set)"
   ]
  },
  {
   "cell_type": "code",
   "execution_count": 30,
   "id": "fa85dd78",
   "metadata": {},
   "outputs": [
    {
     "data": {
      "image/png": "[encoded data removed]",
      "text/plain": [
       "<Figure size 432x288 with 1 Axes>"
      ]
     },
     "metadata": {
      "needs_background": "light"
     },
     "output_type": "display_data"
    }
   ],
   "source": [
    "# Visulaization of Train and Test Errors\n",
    "plt.title('Lasso Regression: Train and Test Errors')\n",
    "plt.plot(M_set, train_lasso, label = 'Train Errors')\n",
    "plt.plot(M_set, test_lasso, label = 'Test Errors')\n",
    "plt.legend()\n",
    "plt.xlabel('i for 10 power of i')\n",
    "plt.ylabel('Errors')\n",
    "plt.show()"
   ]
  },
  {
   "cell_type": "markdown",
   "id": "c32cedea",
   "metadata": {},
   "source": [
    "We test the lasso regression by changing the parameter, lambda, from $10^{-6}$ to $10^{-1}$. From the plot, the train and test errors have similar pattern unlike PCR. When the lambda was $10^{-3}$, the test error was at the minimum. We chose $10^{-6}$ as a lambda for our lasso model in prediction. The Lasso model is known for making the coefficient of insignificant variables zero. We obtained 62 among 111 features having not-zero coefficient. The deprecated variables were recieved penalty by the model."
   ]
  },
  {
   "cell_type": "code",
   "execution_count": 31,
   "id": "493f17ae",
   "metadata": {
    "tags": []
   },
   "outputs": [
    {
     "data": {
      "text/plain": [
       "['LotFrontage',\n",
       " 'LotArea',\n",
       " 'OverallQual',\n",
       " 'OverallCond',\n",
       " 'YearBuilt',\n",
       " 'YearRemodAdd',\n",
       " 'MasVnrArea',\n",
       " 'ExterQual',\n",
       " 'ExterCond',\n",
       " 'BsmtQual',\n",
       " 'BsmtCond',\n",
       " 'BsmtExposure',\n",
       " 'BsmtFinType1',\n",
       " 'BsmtFinSF1',\n",
       " 'BsmtFinType2',\n",
       " 'BsmtFinSF2',\n",
       " 'HeatingQC',\n",
       " 'Electrical',\n",
       " '1stFlrSF',\n",
       " 'LowQualFinSF',\n",
       " 'GrLivArea',\n",
       " 'BsmtFullBath',\n",
       " 'BsmtHalfBath',\n",
       " 'FullBath',\n",
       " 'HalfBath',\n",
       " 'BedroomAbvGr',\n",
       " 'KitchenAbvGr',\n",
       " 'KitchenQual',\n",
       " 'TotRmsAbvGrd',\n",
       " 'Fireplaces',\n",
       " 'GarageFinish',\n",
       " 'GarageCars',\n",
       " 'GarageQual',\n",
       " 'PavedDrive',\n",
       " 'WoodDeckSF',\n",
       " 'OpenPorchSF',\n",
       " 'EnclosedPorch',\n",
       " '3SsnPorch',\n",
       " 'ScreenPorch',\n",
       " 'PoolArea',\n",
       " 'SaleCondition',\n",
       " 'CulDSac',\n",
       " 'FR2',\n",
       " 'ClearCr',\n",
       " 'Crawfor',\n",
       " 'Edwards',\n",
       " 'Gilbert',\n",
       " 'IDOTRR',\n",
       " 'MeadowV',\n",
       " 'NWAmes',\n",
       " 'NoRidge',\n",
       " 'NridgHt',\n",
       " 'OldTown',\n",
       " 'Sawyer',\n",
       " 'Somerst',\n",
       " 'StoneBr',\n",
       " 'Twnhs',\n",
       " '1.5Fin',\n",
       " '1Story',\n",
       " '2Story',\n",
       " 'Y_2006',\n",
       " 'Y_2009']"
      ]
     },
     "execution_count": 31,
     "metadata": {},
     "output_type": "execute_result"
    }
   ],
   "source": [
    "# list the variables selected by the model\n",
    "lasso0001 = Lasso(alpha=0.001, max_iter=10000000).fit(X_train,y_train)\n",
    "coef = lasso0001.coef_\n",
    "var_list=[]\n",
    "for i in range(len(coef)):\n",
    "    if coef[i] != 0:\n",
    "        var_list.append(predictors[i])\n",
    "var_list"
   ]
  },
  {
   "cell_type": "markdown",
   "id": "9ccce5fa",
   "metadata": {},
   "source": [
    "## Non-parametric method"
   ]
  },
  {
   "cell_type": "markdown",
   "id": "0cfceb66",
   "metadata": {},
   "source": [
    "### e. Random Forest Regression"
   ]
  },
  {
   "cell_type": "code",
   "execution_count": 32,
   "id": "e1813721",
   "metadata": {},
   "outputs": [],
   "source": [
    "#https://towardsdatascience.com/hyperparameter-tuning-the-random-forest-in-python-using-scikit-learn-28d2aa77dd74\n",
    "#Create a random grid search to tune hyperparameters\n",
    "n_estimators = [int(x) for x in np.linspace(start = 200, stop = 2000, num = 10)]#try these numbers of trees\n",
    "max_features = ['auto', 'sqrt']#try these methods for number of features\n",
    "max_depth = [int(x) for x in np.linspace(10, 110, num = 11)]#try these numbers of maximum levels to trees\n",
    "max_depth.append(None)#also try no maximum\n",
    "min_samples_split = [2, 5, 10]#try these minimum samples required to split nodes\n",
    "min_samples_leaf = [1, 2, 4]#try these minimum samples for each node\n",
    "bootstrap = [True, False]#try both methods for training trees\n",
    "random_grid = {'n_estimators': n_estimators,\n",
    "               'max_features': max_features,\n",
    "               'max_depth': max_depth,\n",
    "               'min_samples_split': min_samples_split,\n",
    "               'min_samples_leaf': min_samples_leaf,\n",
    "               'bootstrap': bootstrap}#save hyperparameter sets to try below"
   ]
  },
  {
   "cell_type": "code",
   "execution_count": 33,
   "id": "60ed8a27",
   "metadata": {},
   "outputs": [
    {
     "name": "stdout",
     "output_type": "stream",
     "text": [
      "Fitting 3 folds for each of 100 candidates, totalling 300 fits\n"
     ]
    },
    {
     "name": "stderr",
     "output_type": "stream",
     "text": [
      "C:\\Users\\COM\\Anaconda3\\envs\\ppd599\\lib\\site-packages\\sklearn\\model_selection\\_search.py:880: DataConversionWarning: A column-vector y was passed when a 1d array was expected. Please change the shape of y to (n_samples,), for example using ravel().\n",
      "  self.best_estimator_.fit(X, y, **fit_params)\n"
     ]
    },
    {
     "data": {
      "text/plain": [
       "RandomizedSearchCV(cv=3, estimator=RandomForestRegressor(), n_iter=100,\n",
       "                   n_jobs=-1,\n",
       "                   param_distributions={'bootstrap': [True, False],\n",
       "                                        'max_depth': [10, 20, 30, 40, 50, 60,\n",
       "                                                      70, 80, 90, 100, 110,\n",
       "                                                      None],\n",
       "                                        'max_features': ['auto', 'sqrt'],\n",
       "                                        'min_samples_leaf': [1, 2, 4],\n",
       "                                        'min_samples_split': [2, 5, 10],\n",
       "                                        'n_estimators': [200, 400, 600, 800,\n",
       "                                                         1000, 1200, 1400, 1600,\n",
       "                                                         1800, 2000]},\n",
       "                   random_state=1994, verbose=2)"
      ]
     },
     "execution_count": 33,
     "metadata": {},
     "output_type": "execute_result"
    }
   ],
   "source": [
    "#Now we use the hyperparameters above to try one model for each combination. Plug in the distribution of parameters and try each with CV\n",
    "rf = RandomForestRegressor()#base model\n",
    "rf_random = RandomizedSearchCV(estimator=rf,param_distributions=random_grid,n_iter=100,cv=3,verbose=2,random_state=1994,n_jobs= -1)#3-fold cv for time\n",
    "rf_random.fit(X_train,y_train)#fit best model"
   ]
  },
  {
   "cell_type": "code",
   "execution_count": 34,
   "id": "4afcc468",
   "metadata": {},
   "outputs": [
    {
     "data": {
      "text/plain": [
       "{'n_estimators': 1600,\n",
       " 'min_samples_split': 5,\n",
       " 'min_samples_leaf': 1,\n",
       " 'max_features': 'sqrt',\n",
       " 'max_depth': 40,\n",
       " 'bootstrap': False}"
      ]
     },
     "execution_count": 34,
     "metadata": {},
     "output_type": "execute_result"
    }
   ],
   "source": [
    "#Print best parameters\n",
    "rf_random.best_params_"
   ]
  },
  {
   "cell_type": "code",
   "execution_count": 35,
   "id": "353d549e",
   "metadata": {},
   "outputs": [],
   "source": [
    "#Now take the best parameters from random search and feed into grid search. We can try a few alternate specifications close to the random search results\n",
    "#to marginally improve our prediction\n",
    "from sklearn.model_selection import GridSearchCV\n",
    "param_grid = {\n",
    "    'bootstrap': [False],\n",
    "    'max_depth': [36,38,40,42,44],\n",
    "    'max_features': ['sqrt'],\n",
    "    'min_samples_leaf': [1,2,3],\n",
    "    'min_samples_split': [3,4,5,6,7],\n",
    "    'n_estimators': [1500,1550,1600,1650,1700]\n",
    "}\n",
    "rf = RandomForestRegressor()#base model\n",
    "grid_search = GridSearchCV(estimator=rf,param_grid=param_grid,cv=3,n_jobs=-1,verbose=2)"
   ]
  },
  {
   "cell_type": "code",
   "execution_count": 36,
   "id": "11f527bc",
   "metadata": {},
   "outputs": [
    {
     "name": "stdout",
     "output_type": "stream",
     "text": [
      "Fitting 3 folds for each of 375 candidates, totalling 1125 fits\n"
     ]
    },
    {
     "name": "stderr",
     "output_type": "stream",
     "text": [
      "C:\\Users\\COM\\Anaconda3\\envs\\ppd599\\lib\\site-packages\\sklearn\\model_selection\\_search.py:880: DataConversionWarning: A column-vector y was passed when a 1d array was expected. Please change the shape of y to (n_samples,), for example using ravel().\n",
      "  self.best_estimator_.fit(X, y, **fit_params)\n"
     ]
    },
    {
     "data": {
      "text/plain": [
       "{'bootstrap': False,\n",
       " 'max_depth': 40,\n",
       " 'max_features': 'sqrt',\n",
       " 'min_samples_leaf': 1,\n",
       " 'min_samples_split': 3,\n",
       " 'n_estimators': 1550}"
      ]
     },
     "execution_count": 36,
     "metadata": {},
     "output_type": "execute_result"
    }
   ],
   "source": [
    "grid_search.fit(X_train,y_train)#fit best model\n",
    "grid_search.best_params_"
   ]
  },
  {
   "cell_type": "code",
   "execution_count": 37,
   "id": "8f2432d5",
   "metadata": {},
   "outputs": [
    {
     "name": "stdout",
     "output_type": "stream",
     "text": [
      "RMSE training set 0.01\n",
      "RMSE test set 0.13\n"
     ]
    }
   ],
   "source": [
    "# Training data\n",
    "pred_train = grid_search.predict(X_train)\n",
    "rmse_train = math.sqrt(mean_squared_error(y_train, pred_train))\n",
    "print('RMSE training set', round(rmse_train, 2))\n",
    "\n",
    "# Test data\n",
    "pred = grid_search.predict(X_test)\n",
    "rmse_test =math.sqrt(mean_squared_error(y_test, pred))\n",
    "print('RMSE test set', round(rmse_test, 2))"
   ]
  },
  {
   "cell_type": "markdown",
   "id": "feab9614",
   "metadata": {},
   "source": [
    "# Model Comparison"
   ]
  },
  {
   "cell_type": "code",
   "execution_count": 38,
   "id": "8fe29ae8",
   "metadata": {},
   "outputs": [],
   "source": [
    "# predicted model by fitted model\n",
    "y_OLS=LinearRegression().fit(X_train,y_train).predict(X_test)\n",
    "\n",
    "pca=PCA(n_components=3)\n",
    "X_train_reduced = pca.fit_transform(X_train)\n",
    "X_test_reduced = pca.fit_transform(X_test)\n",
    "y_PCR=LinearRegression().fit(X_train_reduced,y_train).predict(X_test_reduced)\n",
    "\n",
    "y_Ridge=Ridge(alpha=10**0).fit(X_train,y_train).predict(X_test)\n",
    "\n",
    "y_Lasso=Lasso(alpha=10**(-3), max_iter=100000).fit(X_train,y_train).predict(X_test)\n",
    "\n",
    "y_RandomForest=pred"
   ]
  },
  {
   "cell_type": "code",
   "execution_count": 39,
   "id": "cac22e8d",
   "metadata": {},
   "outputs": [
    {
     "data": {
      "text/html": [
       "<div>\n",
       "<style scoped>\n",
       "    .dataframe tbody tr th:only-of-type {\n",
       "        vertical-align: middle;\n",
       "    }\n",
       "\n",
       "    .dataframe tbody tr th {\n",
       "        vertical-align: top;\n",
       "    }\n",
       "\n",
       "    .dataframe thead th {\n",
       "        text-align: right;\n",
       "    }\n",
       "</style>\n",
       "<table border=\"1\" class=\"dataframe\">\n",
       "  <thead>\n",
       "    <tr style=\"text-align: right;\">\n",
       "      <th></th>\n",
       "      <th>RandomForest</th>\n",
       "      <th>Lasso</th>\n",
       "      <th>Ridge</th>\n",
       "      <th>PCR</th>\n",
       "      <th>OLS</th>\n",
       "    </tr>\n",
       "  </thead>\n",
       "  <tbody>\n",
       "    <tr>\n",
       "      <th>0</th>\n",
       "      <td>11.864030</td>\n",
       "      <td>11.816545</td>\n",
       "      <td>11.841938</td>\n",
       "      <td>11.844044</td>\n",
       "      <td>1.184772e+01</td>\n",
       "    </tr>\n",
       "    <tr>\n",
       "      <th>1</th>\n",
       "      <td>11.702828</td>\n",
       "      <td>11.754446</td>\n",
       "      <td>11.779433</td>\n",
       "      <td>11.612838</td>\n",
       "      <td>1.177943e+01</td>\n",
       "    </tr>\n",
       "    <tr>\n",
       "      <th>2</th>\n",
       "      <td>11.918846</td>\n",
       "      <td>11.814934</td>\n",
       "      <td>11.862356</td>\n",
       "      <td>11.636671</td>\n",
       "      <td>1.186911e+01</td>\n",
       "    </tr>\n",
       "    <tr>\n",
       "      <th>3</th>\n",
       "      <td>12.524033</td>\n",
       "      <td>12.534494</td>\n",
       "      <td>12.521498</td>\n",
       "      <td>12.524201</td>\n",
       "      <td>1.251389e+01</td>\n",
       "    </tr>\n",
       "    <tr>\n",
       "      <th>4</th>\n",
       "      <td>11.986714</td>\n",
       "      <td>12.112345</td>\n",
       "      <td>12.173018</td>\n",
       "      <td>12.026037</td>\n",
       "      <td>-6.978470e+10</td>\n",
       "    </tr>\n",
       "  </tbody>\n",
       "</table>\n",
       "</div>"
      ],
      "text/plain": [
       "   RandomForest      Lasso      Ridge        PCR           OLS\n",
       "0     11.864030  11.816545  11.841938  11.844044  1.184772e+01\n",
       "1     11.702828  11.754446  11.779433  11.612838  1.177943e+01\n",
       "2     11.918846  11.814934  11.862356  11.636671  1.186911e+01\n",
       "3     12.524033  12.534494  12.521498  12.524201  1.251389e+01\n",
       "4     11.986714  12.112345  12.173018  12.026037 -6.978470e+10"
      ]
     },
     "execution_count": 39,
     "metadata": {},
     "output_type": "execute_result"
    }
   ],
   "source": [
    "# dataframe for the predicted values\n",
    "predicted_price=pd.DataFrame()\n",
    "predicted_price['RandomForest'] = list(y_RandomForest)\n",
    "predicted_price['Lasso'] = list(y_Lasso)\n",
    "predicted_price['Ridge'] = y_Ridge\n",
    "predicted_price['PCR'] = y_PCR\n",
    "predicted_price['OLS'] = y_OLS\n",
    "\n",
    "predicted_price.head()"
   ]
  },
  {
   "cell_type": "markdown",
   "id": "c7e67a35",
   "metadata": {},
   "source": [
    "### Comparison of Distibution"
   ]
  },
  {
   "cell_type": "code",
   "execution_count": 40,
   "id": "a4e4c564",
   "metadata": {},
   "outputs": [
    {
     "data": {
      "text/plain": [
       "<AxesSubplot:title={'center':'Distribution of Predicted House Price by OLS'}, ylabel='Count'>"
      ]
     },
     "execution_count": 40,
     "metadata": {},
     "output_type": "execute_result"
    },
    {
     "data": {
      "image/png": "[encoded data removed]",
      "text/plain": [
       "<Figure size 720x576 with 1 Axes>"
      ]
     },
     "metadata": {
      "needs_background": "light"
     },
     "output_type": "display_data"
    }
   ],
   "source": [
    "fig, ax = plt.subplots(figsize=(10,8))\n",
    "plt.title('Distribution of Predicted House Price by OLS')\n",
    "sns.histplot(data=predicted_price[['OLS']], bins=20, kde=True)"
   ]
  },
  {
   "cell_type": "code",
   "execution_count": 41,
   "id": "d270d56a",
   "metadata": {},
   "outputs": [
    {
     "data": {
      "text/plain": [
       "<AxesSubplot:title={'center':'Distribution of Predicted House Price by ML Model'}, ylabel='Count'>"
      ]
     },
     "execution_count": 41,
     "metadata": {},
     "output_type": "execute_result"
    },
    {
     "data": {
      "image/png": "[encoded data removed]",
      "text/plain": [
       "<Figure size 720x576 with 1 Axes>"
      ]
     },
     "metadata": {
      "needs_background": "light"
     },
     "output_type": "display_data"
    }
   ],
   "source": [
    "fig, ax = plt.subplots(figsize=(10,8))\n",
    "plt.title('Distribution of Predicted House Price by ML Model')\n",
    "sns.histplot(ax=ax,data=predicted_price[['PCR','Ridge','Lasso','RandomForest']], bins=20, alpha=0.5, kde=True)"
   ]
  },
  {
   "cell_type": "markdown",
   "id": "d6e50f49",
   "metadata": {},
   "source": [
    "### Comparison of Statistics across Models"
   ]
  },
  {
   "cell_type": "code",
   "execution_count": 42,
   "id": "f3a6650c",
   "metadata": {},
   "outputs": [],
   "source": [
    "r2 = [round(r2_score(y_test, y_OLS),3),\n",
    "      round(r2_score(y_test, y_PCR),3),\n",
    "      round(r2_score(y_test, y_Ridge),3),\n",
    "      round(r2_score(y_test, y_Lasso),3),\n",
    "      round(r2_score(y_test, y_RandomForest),3)]\n",
    "rmse = [round(mean_squared_error(y_test, y_OLS, squared=False),3),\n",
    "      round(mean_squared_error(y_test, y_PCR, squared=False),3),\n",
    "      round(mean_squared_error(y_test, y_Ridge, squared=False),3),\n",
    "      round(mean_squared_error(y_test, y_Lasso, squared=False),3),\n",
    "      round(mean_squared_error(y_test, y_RandomForest, squared=False),3)]\n",
    "compare_array = np.array([r2,rmse])"
   ]
  },
  {
   "cell_type": "code",
   "execution_count": 43,
   "id": "67b3c0f5",
   "metadata": {},
   "outputs": [
    {
     "data": {
      "text/html": [
       "<div>\n",
       "<style scoped>\n",
       "    .dataframe tbody tr th:only-of-type {\n",
       "        vertical-align: middle;\n",
       "    }\n",
       "\n",
       "    .dataframe tbody tr th {\n",
       "        vertical-align: top;\n",
       "    }\n",
       "\n",
       "    .dataframe thead th {\n",
       "        text-align: right;\n",
       "    }\n",
       "</style>\n",
       "<table border=\"1\" class=\"dataframe\">\n",
       "  <thead>\n",
       "    <tr style=\"text-align: right;\">\n",
       "      <th></th>\n",
       "      <th>OLS</th>\n",
       "      <th>PCR</th>\n",
       "      <th>Ridge</th>\n",
       "      <th>Lasso</th>\n",
       "      <th>Random Forest</th>\n",
       "    </tr>\n",
       "  </thead>\n",
       "  <tbody>\n",
       "    <tr>\n",
       "      <th>R-Squared</th>\n",
       "      <td>-6.635925e+19</td>\n",
       "      <td>0.836</td>\n",
       "      <td>0.898</td>\n",
       "      <td>0.903</td>\n",
       "      <td>0.896</td>\n",
       "    </tr>\n",
       "    <tr>\n",
       "      <th>RMSE</th>\n",
       "      <td>3.334442e+09</td>\n",
       "      <td>0.166</td>\n",
       "      <td>0.131</td>\n",
       "      <td>0.127</td>\n",
       "      <td>0.132</td>\n",
       "    </tr>\n",
       "  </tbody>\n",
       "</table>\n",
       "</div>"
      ],
      "text/plain": [
       "                    OLS    PCR  Ridge  Lasso  Random Forest\n",
       "R-Squared -6.635925e+19  0.836  0.898  0.903          0.896\n",
       "RMSE       3.334442e+09  0.166  0.131  0.127          0.132"
      ]
     },
     "execution_count": 43,
     "metadata": {},
     "output_type": "execute_result"
    }
   ],
   "source": [
    "comparison = pd.DataFrame(compare_array, columns=['OLS','PCR','Ridge','Lasso','Random Forest'], index=['R-Squared','RMSE'])\n",
    "comparison"
   ]
  },
  {
   "cell_type": "markdown",
   "id": "37169ce9",
   "metadata": {},
   "source": [
    "# 4. Findings"
   ]
  },
  {
   "cell_type": "markdown",
   "id": "7ffa5260",
   "metadata": {},
   "source": [
    "In order to assess the predictive accuracy of the 5 methods, we provide both RMSE and r^2. These are similar goodness-of-fit measures, where r^2 is scaled from 0 to 1 and RMSE gives the error in more absolute terms. First, we run simple OLS on the dataset to provide a baseline for predictive accuracy. In this result, most observations receive similar predictions and the RMSE is quite high for the test data. However, when running a regression with principal components, we achieve an r^2 of .84 and RMSE of .17. When running regularized regressions, we obtain an r^2 of about .9 and RMSE of .13 in both LASSO and ridge regression. However, LASSO regression is a few hundredths better on both measures, indicating it is the best-performing model for prediction. Finally, random forest regression yields a similar r^2 and RMSE of about .9 and .13, but it is a few hundredths worse than ridge regression, placing it third. Compared to simple OLS as a baseline, all four other models perform noticeably better, with LASSO slightly edging out ridge and random forest on our goodness-of-fit measures. Compared to ridge and random forest which performed only slightly worse, LASSO is also computationally efficient, since it can drive feature coefficients all the way down to zero and remove them. Therefore, we find that LASSO should be the preferred method among the ones we tested."
   ]
  },
  {
   "cell_type": "markdown",
   "id": "bf57a27d",
   "metadata": {},
   "source": [
    "# 5. Conclusion"
   ]
  },
  {
   "cell_type": "markdown",
   "id": "d5054865",
   "metadata": {},
   "source": [
    "Simple OLS is not very useful. As we noted, it is popular for the hedonic method of measuring revealed preference for certain amenities, but it is not useful as a predictive tool. Since we first fit each method to a training dataset, it appears that the OLS estimates were severely overfit and performed terribly on the test dataset. Further, we know conceptually that simple OLS is not well-suited to handle high dimensionality. However, we do see a marked improvement when using principal component analysis to reduce dimensionality before running OLS. When we use regularized regressions, both ridge and LASSO, we see another definitive improvement over principal component regression. Both results were quite similar, given that the only difference between the two methods is how lambda, which penalizes coefficient size, is handled. In LASSO, coefficients can be zero, while in ridge, coefficients can only asymptotically approach zero. Finally, we try random forest regression, which uses a series of decision trees generated through bagging or bootstrapping to make predictions. Random forest performed almost as well as LASSO and ridge regression, and it is possible that with more fine-tuning this method could be the most accurate. However, ridge and LASSO have a much more straightforward method to choose the best value for lambda, while random forest is much more arbitrary and time-consuming, as we had to use a randomized process to run combinations of several hyperparameters. Therefore, we recommend LASSO as a preferred method.\n",
    "\n",
    "While older, traditional hedonic methods based on simple econometric models still have their place as useful tools to evaluate theory and generate treatment effects, we have demonstrated in this notebook that machine-learning techniques can strongly outperform them in terms of prediction. While this is not as useful in settings where causality is of interest, prediction is also a necessary use case in the real estate market. While each method we tried performed respectively well, we find that LASSO is the best of the five for its higher accuracy, relatively lower computational difficulty, and its ability to reduce dimensions.\n",
    "\n",
    "- Koehrsen, Will. “Hyperparameter Tuning the Random Forest in Python.” Medium, Towards Data Science, 10 Jan. 2018, https://towardsdatascience.com/hyperparameter-tuning-the-random-forest-in-python-using-scikit-learn-28d2aa77dd74. "
   ]
  },
  {
   "cell_type": "markdown",
   "id": "da7c8789",
   "metadata": {},
   "source": [
    "#### \n"
   ]
  }
 ],
 "metadata": {
  "kernelspec": {
   "display_name": "Python (ppd599)",
   "language": "python",
   "name": "ppd599"
  },
  "language_info": {
   "codemirror_mode": {
    "name": "ipython",
    "version": 3
   },
   "file_extension": ".py",
   "mimetype": "text/x-python",
   "name": "python",
   "nbconvert_exporter": "python",
   "pygments_lexer": "ipython3",
   "version": "3.9.2"
  }
 },
 "nbformat": 4,
 "nbformat_minor": 5
}
