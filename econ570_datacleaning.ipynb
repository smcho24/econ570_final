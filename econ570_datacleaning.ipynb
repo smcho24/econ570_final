{
 "cells": [
  {
   "cell_type": "markdown",
   "id": "d2cd023b",
   "metadata": {},
   "source": [
    "# Final Project (ECON570)\n",
    "* Instructor: Dr. Ida Johnsson\n",
    "* Authors: Seongmoon CHO, James GROSS, and Jaehyun HA\n",
    "* Date: 05/06/2022"
   ]
  },
  {
   "cell_type": "markdown",
   "id": "9ab4bdb6",
   "metadata": {},
   "source": [
    "# Data Cleaning"
   ]
  },
  {
   "cell_type": "code",
   "execution_count": 54,
   "id": "2accd9ce",
   "metadata": {},
   "outputs": [],
   "source": [
    "import pandas as pd\n",
    "import seaborn as sns\n",
    "import matplotlib.pyplot as plt\n",
    "import statsmodels.api as sm\n",
    "import numpy as np\n",
    "\n",
    "from sklearn.model_selection import train_test_split\n",
    "from sklearn.model_selection import KFold\n",
    "from sklearn.model_selection import cross_val_score\n",
    "from sklearn.linear_model import LinearRegression\n",
    "from numpy import mean\n",
    "from numpy import absolute\n",
    "from numpy import sqrt"
   ]
  },
  {
   "cell_type": "code",
   "execution_count": 55,
   "id": "b51b81db",
   "metadata": {},
   "outputs": [
    {
     "data": {
      "text/html": [
       "<div>\n",
       "<style scoped>\n",
       "    .dataframe tbody tr th:only-of-type {\n",
       "        vertical-align: middle;\n",
       "    }\n",
       "\n",
       "    .dataframe tbody tr th {\n",
       "        vertical-align: top;\n",
       "    }\n",
       "\n",
       "    .dataframe thead th {\n",
       "        text-align: right;\n",
       "    }\n",
       "</style>\n",
       "<table border=\"1\" class=\"dataframe\">\n",
       "  <thead>\n",
       "    <tr style=\"text-align: right;\">\n",
       "      <th></th>\n",
       "      <th>Id</th>\n",
       "      <th>MSSubClass</th>\n",
       "      <th>MSZoning</th>\n",
       "      <th>LotFrontage</th>\n",
       "      <th>LotArea</th>\n",
       "      <th>Street</th>\n",
       "      <th>Alley</th>\n",
       "      <th>LotShape</th>\n",
       "      <th>LandContour</th>\n",
       "      <th>Utilities</th>\n",
       "      <th>...</th>\n",
       "      <th>PoolArea</th>\n",
       "      <th>PoolQC</th>\n",
       "      <th>Fence</th>\n",
       "      <th>MiscFeature</th>\n",
       "      <th>MiscVal</th>\n",
       "      <th>MoSold</th>\n",
       "      <th>YrSold</th>\n",
       "      <th>SaleType</th>\n",
       "      <th>SaleCondition</th>\n",
       "      <th>SalePrice</th>\n",
       "    </tr>\n",
       "  </thead>\n",
       "  <tbody>\n",
       "    <tr>\n",
       "      <th>0</th>\n",
       "      <td>1</td>\n",
       "      <td>60</td>\n",
       "      <td>RL</td>\n",
       "      <td>65.0</td>\n",
       "      <td>8450</td>\n",
       "      <td>Pave</td>\n",
       "      <td>NaN</td>\n",
       "      <td>Reg</td>\n",
       "      <td>Lvl</td>\n",
       "      <td>AllPub</td>\n",
       "      <td>...</td>\n",
       "      <td>0</td>\n",
       "      <td>NaN</td>\n",
       "      <td>NaN</td>\n",
       "      <td>NaN</td>\n",
       "      <td>0</td>\n",
       "      <td>2</td>\n",
       "      <td>2008</td>\n",
       "      <td>WD</td>\n",
       "      <td>Normal</td>\n",
       "      <td>208500</td>\n",
       "    </tr>\n",
       "    <tr>\n",
       "      <th>1</th>\n",
       "      <td>2</td>\n",
       "      <td>20</td>\n",
       "      <td>RL</td>\n",
       "      <td>80.0</td>\n",
       "      <td>9600</td>\n",
       "      <td>Pave</td>\n",
       "      <td>NaN</td>\n",
       "      <td>Reg</td>\n",
       "      <td>Lvl</td>\n",
       "      <td>AllPub</td>\n",
       "      <td>...</td>\n",
       "      <td>0</td>\n",
       "      <td>NaN</td>\n",
       "      <td>NaN</td>\n",
       "      <td>NaN</td>\n",
       "      <td>0</td>\n",
       "      <td>5</td>\n",
       "      <td>2007</td>\n",
       "      <td>WD</td>\n",
       "      <td>Normal</td>\n",
       "      <td>181500</td>\n",
       "    </tr>\n",
       "    <tr>\n",
       "      <th>2</th>\n",
       "      <td>3</td>\n",
       "      <td>60</td>\n",
       "      <td>RL</td>\n",
       "      <td>68.0</td>\n",
       "      <td>11250</td>\n",
       "      <td>Pave</td>\n",
       "      <td>NaN</td>\n",
       "      <td>IR1</td>\n",
       "      <td>Lvl</td>\n",
       "      <td>AllPub</td>\n",
       "      <td>...</td>\n",
       "      <td>0</td>\n",
       "      <td>NaN</td>\n",
       "      <td>NaN</td>\n",
       "      <td>NaN</td>\n",
       "      <td>0</td>\n",
       "      <td>9</td>\n",
       "      <td>2008</td>\n",
       "      <td>WD</td>\n",
       "      <td>Normal</td>\n",
       "      <td>223500</td>\n",
       "    </tr>\n",
       "    <tr>\n",
       "      <th>3</th>\n",
       "      <td>4</td>\n",
       "      <td>70</td>\n",
       "      <td>RL</td>\n",
       "      <td>60.0</td>\n",
       "      <td>9550</td>\n",
       "      <td>Pave</td>\n",
       "      <td>NaN</td>\n",
       "      <td>IR1</td>\n",
       "      <td>Lvl</td>\n",
       "      <td>AllPub</td>\n",
       "      <td>...</td>\n",
       "      <td>0</td>\n",
       "      <td>NaN</td>\n",
       "      <td>NaN</td>\n",
       "      <td>NaN</td>\n",
       "      <td>0</td>\n",
       "      <td>2</td>\n",
       "      <td>2006</td>\n",
       "      <td>WD</td>\n",
       "      <td>Abnorml</td>\n",
       "      <td>140000</td>\n",
       "    </tr>\n",
       "    <tr>\n",
       "      <th>4</th>\n",
       "      <td>5</td>\n",
       "      <td>60</td>\n",
       "      <td>RL</td>\n",
       "      <td>84.0</td>\n",
       "      <td>14260</td>\n",
       "      <td>Pave</td>\n",
       "      <td>NaN</td>\n",
       "      <td>IR1</td>\n",
       "      <td>Lvl</td>\n",
       "      <td>AllPub</td>\n",
       "      <td>...</td>\n",
       "      <td>0</td>\n",
       "      <td>NaN</td>\n",
       "      <td>NaN</td>\n",
       "      <td>NaN</td>\n",
       "      <td>0</td>\n",
       "      <td>12</td>\n",
       "      <td>2008</td>\n",
       "      <td>WD</td>\n",
       "      <td>Normal</td>\n",
       "      <td>250000</td>\n",
       "    </tr>\n",
       "  </tbody>\n",
       "</table>\n",
       "<p>5 rows × 81 columns</p>\n",
       "</div>"
      ],
      "text/plain": [
       "   Id  MSSubClass MSZoning  LotFrontage  LotArea Street Alley LotShape  \\\n",
       "0   1          60       RL         65.0     8450   Pave   NaN      Reg   \n",
       "1   2          20       RL         80.0     9600   Pave   NaN      Reg   \n",
       "2   3          60       RL         68.0    11250   Pave   NaN      IR1   \n",
       "3   4          70       RL         60.0     9550   Pave   NaN      IR1   \n",
       "4   5          60       RL         84.0    14260   Pave   NaN      IR1   \n",
       "\n",
       "  LandContour Utilities  ... PoolArea PoolQC Fence MiscFeature MiscVal MoSold  \\\n",
       "0         Lvl    AllPub  ...        0    NaN   NaN         NaN       0      2   \n",
       "1         Lvl    AllPub  ...        0    NaN   NaN         NaN       0      5   \n",
       "2         Lvl    AllPub  ...        0    NaN   NaN         NaN       0      9   \n",
       "3         Lvl    AllPub  ...        0    NaN   NaN         NaN       0      2   \n",
       "4         Lvl    AllPub  ...        0    NaN   NaN         NaN       0     12   \n",
       "\n",
       "  YrSold  SaleType  SaleCondition  SalePrice  \n",
       "0   2008        WD         Normal     208500  \n",
       "1   2007        WD         Normal     181500  \n",
       "2   2008        WD         Normal     223500  \n",
       "3   2006        WD        Abnorml     140000  \n",
       "4   2008        WD         Normal     250000  \n",
       "\n",
       "[5 rows x 81 columns]"
      ]
     },
     "execution_count": 55,
     "metadata": {},
     "output_type": "execute_result"
    }
   ],
   "source": [
    "df = pd.read_csv('train.csv') #read csv file\n",
    "df.head()"
   ]
  },
  {
   "cell_type": "code",
   "execution_count": 56,
   "id": "b53d8390",
   "metadata": {},
   "outputs": [],
   "source": [
    "# df.info() # check data quality; there are several missing data; there are also numerical values and categorical values in the data"
   ]
  },
  {
   "cell_type": "code",
   "execution_count": 57,
   "id": "f6fa9aa3",
   "metadata": {},
   "outputs": [
    {
     "data": {
      "text/plain": [
       "LotFrontage      259\n",
       "Alley           1369\n",
       "MasVnrType         8\n",
       "MasVnrArea         8\n",
       "BsmtQual          37\n",
       "BsmtCond          37\n",
       "BsmtExposure      38\n",
       "BsmtFinType1      37\n",
       "BsmtFinType2      38\n",
       "Electrical         1\n",
       "FireplaceQu      690\n",
       "GarageType        81\n",
       "GarageYrBlt       81\n",
       "GarageFinish      81\n",
       "GarageQual        81\n",
       "GarageCond        81\n",
       "PoolQC          1453\n",
       "Fence           1179\n",
       "MiscFeature     1406\n",
       "dtype: int64"
      ]
     },
     "execution_count": 57,
     "metadata": {},
     "output_type": "execute_result"
    }
   ],
   "source": [
    "# variables with null values\n",
    "df.isnull().sum()[df.isnull().sum() > 0]"
   ]
  },
  {
   "cell_type": "code",
   "execution_count": 58,
   "id": "8eba4b95",
   "metadata": {},
   "outputs": [],
   "source": [
    "# fill 0 for null values in numerical variables\n",
    "temp = ['LotFrontage', 'MasVnrArea'] # we did not fill 0 for null values in GarageYrBlt because it is a 'year' value\n",
    "for i in temp:\n",
    "    df[i].fillna(0, inplace=True)"
   ]
  },
  {
   "cell_type": "code",
   "execution_count": 59,
   "id": "2abadcac",
   "metadata": {},
   "outputs": [],
   "source": [
    "# for YearBuilt and YearRemodAdd -> calculate years since each time period to sold year\n",
    "df['YearBuilt'] = df['YrSold'] - df['YearBuilt'] \n",
    "df['YearRemodAdd'] = df['YrSold'] - df['YearRemodAdd'] "
   ]
  },
  {
   "cell_type": "code",
   "execution_count": 60,
   "id": "d2727708",
   "metadata": {},
   "outputs": [
    {
     "data": {
      "text/plain": [
       "Lvl    1311\n",
       "Bnk      63\n",
       "HLS      50\n",
       "Low      36\n",
       "Name: LandContour, dtype: int64"
      ]
     },
     "execution_count": 60,
     "metadata": {},
     "output_type": "execute_result"
    }
   ],
   "source": [
    "# code categorical variables to numerical variables\n",
    "df['LandContour'].value_counts()"
   ]
  },
  {
   "cell_type": "code",
   "execution_count": 61,
   "id": "437501d2",
   "metadata": {},
   "outputs": [],
   "source": [
    "# Street (1 if Pave) \n",
    "df['Street'] = df.Street.replace({\"Grvl\" : 0, \"Pave\" : 1})"
   ]
  },
  {
   "cell_type": "code",
   "execution_count": 62,
   "id": "978e6733",
   "metadata": {},
   "outputs": [],
   "source": [
    "# Alley (1 if has alley access regardless of type)\n",
    "df['Alley'] = df.Alley.replace({\"NA\" : 0, \"Grvl\" : 1, \"Pave\" : 1})\n",
    "df['Alley'].fillna(0, inplace = True)"
   ]
  },
  {
   "cell_type": "code",
   "execution_count": 63,
   "id": "689318ce",
   "metadata": {},
   "outputs": [],
   "source": [
    "# LotShape (1 if the shape of property is regular)\n",
    "df['LotShape'] = df.LotShape.replace({\"IR1\":0, \"IR2\":0, \"IR3\":0, \"Reg\":1})"
   ]
  },
  {
   "cell_type": "code",
   "execution_count": 64,
   "id": "146809c7",
   "metadata": {},
   "outputs": [],
   "source": [
    "# LandContour (1 if near flat)\n",
    "df['LandContour'] = df.LandContour.replace({\"Bnk\":0, \"HLS\":0, \"Low\":0, \"Lvl\":1})"
   ]
  },
  {
   "cell_type": "code",
   "execution_count": 65,
   "id": "95c18743",
   "metadata": {},
   "outputs": [],
   "source": [
    "# Utilities (1 if all public utilities)\n",
    "df['Utilities'] = df.Utilities.replace({\"NoSeWa\":0, \"AllPub\":1})"
   ]
  },
  {
   "cell_type": "code",
   "execution_count": 66,
   "id": "4742d576",
   "metadata": {},
   "outputs": [],
   "source": [
    "# LotConfig (make dummy variables and append to df)\n",
    "df = pd.concat([df, pd.get_dummies(df['LotConfig'])], axis=1)"
   ]
  },
  {
   "cell_type": "code",
   "execution_count": 67,
   "id": "b237ec90",
   "metadata": {},
   "outputs": [],
   "source": [
    "# LandSlope (1 if gentle slope)\n",
    "df['LandSlope'] = df.LandSlope.replace({\"Gtl\":1, \"Mod\":0, \"Sev\":0})"
   ]
  },
  {
   "cell_type": "code",
   "execution_count": 68,
   "id": "e878a02e",
   "metadata": {},
   "outputs": [],
   "source": [
    "# Neighborhood (make dummy variables and append to df)\n",
    "df = pd.concat([df, pd.get_dummies(df['Neighborhood'])], axis=1)"
   ]
  },
  {
   "cell_type": "code",
   "execution_count": 69,
   "id": "451bd4af",
   "metadata": {},
   "outputs": [],
   "source": [
    "# BldgType (there are five categories, but we reduced it to three and created as dummy variables)\n",
    "df['BldgType'] = df.BldgType.replace({\"1Fam\": \"1Fam\", \"2fmCon\": \"2Fam\", \"Duplex\": \"2Fam\", \"TwnhsE\": \"Twnhs\", \"TwnhsI\": \"Twnhs\"})\n",
    "df = pd.concat([df, pd.get_dummies(df['BldgType'])], axis=1)"
   ]
  },
  {
   "cell_type": "code",
   "execution_count": 70,
   "id": "6ff871c8",
   "metadata": {},
   "outputs": [],
   "source": [
    "# HouseStyle (make dummy variables and append to df)\n",
    "df = pd.concat([df, pd.get_dummies(df['HouseStyle'])], axis=1)"
   ]
  },
  {
   "cell_type": "code",
   "execution_count": 71,
   "id": "3c891ae2",
   "metadata": {},
   "outputs": [],
   "source": [
    "# Roofstyle (there are six categories, but we reduced it to three and created as dummy variables)\n",
    "df[\"RoofStyle\"] = df.RoofStyle.replace({\"Flat\": \"Others\", \"Gambrel\": \"Others\", \"Mansard\": \"Others\", \"Shed\": \"Others\"})\n",
    "df = pd.concat([df, pd.get_dummies(df['RoofStyle'])], axis=1)"
   ]
  },
  {
   "cell_type": "code",
   "execution_count": 72,
   "id": "e72ddb61",
   "metadata": {},
   "outputs": [],
   "source": [
    "# RoofMatl (1 if Standard Shingle)\n",
    "df['RoofMatl'] = df.RoofMatl.replace({\"CompShg\":1, \"Tar&Grv\":0, \"WdShngl\":0, \"WdShake\":0, \"Roll\":0, \"Membran\":0, \"ClyTile\":0, \"Metal\":0})"
   ]
  },
  {
   "cell_type": "code",
   "execution_count": 73,
   "id": "c116d372",
   "metadata": {},
   "outputs": [],
   "source": [
    "# MasVnrType (fill null values with None and created as dummy variables)\n",
    "df[\"MasVnrType\"].fillna(\"None\", inplace=True)\n",
    "df = pd.concat([df, pd.get_dummies(df['MasVnrType'])], axis=1)"
   ]
  },
  {
   "cell_type": "code",
   "execution_count": 74,
   "id": "0922025a",
   "metadata": {},
   "outputs": [],
   "source": [
    "# ExterQual \n",
    "df['ExterQual'] = df.ExterQual.replace({'None': 0, 'NA': 0, 'Po' : 1, 'Fa' : 2, 'TA' : 3, 'Gd' : 4, 'Ex' : 5})"
   ]
  },
  {
   "cell_type": "code",
   "execution_count": 75,
   "id": "a4c938a6",
   "metadata": {},
   "outputs": [],
   "source": [
    "# ExterCond \n",
    "df['ExterCond'] = df.ExterCond.replace({'None': 0, 'NA': 0, 'Po' : 1, 'Fa' : 2, 'TA' : 3, 'Gd' : 4, 'Ex' : 5})"
   ]
  },
  {
   "cell_type": "code",
   "execution_count": 76,
   "id": "9a8b2de1",
   "metadata": {},
   "outputs": [],
   "source": [
    "# Basement related variables \n",
    "df['BsmtQual'] = df.BsmtQual.replace({'None': 0, 'NA': 0, 'Po' : 1, 'Fa' : 2, 'TA' : 3, 'Gd' : 4, 'Ex' : 5})\n",
    "df['BsmtCond'] = df.BsmtCond.replace({'None': 0, 'NA': 0, 'Po' : 1, 'Fa' : 2, 'TA' : 3, 'Gd' : 4, 'Ex' : 5})\n",
    "df['BsmtExposure'] = df.BsmtExposure.replace({'None': 0, 'NA': 0, 'No' : 0, 'Mn' : 1, 'Av' : 2, 'Gd' : 3})\n",
    "df['BsmtFinType1'] = df.BsmtFinType1.replace({'None': 0, 'NA': 0, 'Unf' : 1, 'LwQ' : 2, 'Rec' : 3, 'BLQ' : 4, 'ALQ' : 5, 'GLQ' : 6})\n",
    "df['BsmtFinType2'] = df.BsmtFinType2.replace({'None': 0, 'NA': 0, 'Unf' : 1, 'LwQ' : 2, 'Rec' : 3, 'BLQ' : 4, 'ALQ' : 5, 'GLQ' : 6})"
   ]
  },
  {
   "cell_type": "code",
   "execution_count": 77,
   "id": "10361e21",
   "metadata": {},
   "outputs": [],
   "source": [
    "# Heating (1 if GasA)\n",
    "df['Heating'] = df.Heating.replace({\"GasA\":1, \"Floor\":0, \"GasW\":0, \"Grav\":0, \"OthW\":0, \"Wall\":0})\n",
    "df['HeatingQC'] = df.HeatingQC.replace({'None': 0, 'NA': 0, 'Po' : 1, 'Fa' : 2, 'TA' : 3, 'Gd' : 4, 'Ex' : 5})"
   ]
  },
  {
   "cell_type": "code",
   "execution_count": 78,
   "id": "9608bfae",
   "metadata": {},
   "outputs": [],
   "source": [
    "# CentralAir (1 if Y)\n",
    "df['CentralAir'] = df.Heating.replace({\"Y\":1, \"N\":0})"
   ]
  },
  {
   "cell_type": "code",
   "execution_count": 79,
   "id": "d3b6a790",
   "metadata": {},
   "outputs": [],
   "source": [
    "# Electrical (1 if SBrkr)\n",
    "df['Electrical'] = df.Electrical.replace({\"SBrkr\":1, \"FuseA\":0, \"FuseF\":0, \"FuseP\":0, \"Mix\":0})"
   ]
  },
  {
   "cell_type": "code",
   "execution_count": 80,
   "id": "09327af8",
   "metadata": {},
   "outputs": [],
   "source": [
    "# KitchenQual\n",
    "df['KitchenQual'] = df.KitchenQual.replace({'None': 0, 'NA': 0, 'Po' : 1, 'Fa' : 2, 'TA' : 3, 'Gd' : 4, 'Ex' : 5})"
   ]
  },
  {
   "cell_type": "code",
   "execution_count": 81,
   "id": "a8a4b608",
   "metadata": {},
   "outputs": [],
   "source": [
    "# FireplaceQu\n",
    "df['FireplaceQu'] = df.FireplaceQu.replace({'None': 0, 'NA': 0, 'Po' : 1, 'Fa' : 2, 'TA' : 3, 'Gd' : 4, 'Ex' : 5})"
   ]
  },
  {
   "cell_type": "code",
   "execution_count": 82,
   "id": "883186f9",
   "metadata": {},
   "outputs": [],
   "source": [
    "# Garage related variables\n",
    "df['GarageFinish'] = df.GarageFinish.replace({'None': 0, 'NA': 0, 'Unf' : 1, 'RFn' : 2, 'Fin' : 3})\n",
    "df['GarageQual'] = df.GarageQual.replace({'None': 0, 'NA': 0, 'Po' : 1, 'Fa' : 2, 'TA' : 3, 'Gd' : 4, 'Ex' : 5})\n",
    "df['GarageCond'] = df.GarageCond.replace({'None': 0, 'NA': 0, 'Po' : 1, 'Fa' : 2, 'TA' : 3, 'Gd' : 4, 'Ex' : 5})"
   ]
  },
  {
   "cell_type": "code",
   "execution_count": 83,
   "id": "6c7c5efb",
   "metadata": {},
   "outputs": [],
   "source": [
    "# PavedDrive\n",
    "df['PavedDrive'] = df.PavedDrive.replace({'N': 0, 'P': 1, 'Y' : 2})"
   ]
  },
  {
   "cell_type": "code",
   "execution_count": 84,
   "id": "e9a162d8",
   "metadata": {},
   "outputs": [],
   "source": [
    "# Fence\n",
    "df['Fence'] = df.Fence.replace({'NA': 0, 'MnWw' : 1, 'GdWo' : 2, 'MnPrv' : 3, 'GdPrv' : 4})"
   ]
  },
  {
   "cell_type": "code",
   "execution_count": 85,
   "id": "e9602ed6",
   "metadata": {},
   "outputs": [],
   "source": [
    "# YrSold (make dummy variables and append to df)\n",
    "df = pd.concat([df, pd.get_dummies(df['YrSold']).rename(columns=lambda x:'Y_' +str(x))], axis=1)"
   ]
  },
  {
   "cell_type": "code",
   "execution_count": 86,
   "id": "59dca560",
   "metadata": {},
   "outputs": [],
   "source": [
    "# SaleCondition (1 if Normal)\n",
    "df['SaleCondition'] = df.SaleCondition.replace({'Normal': 1, 'Abnorml': 0, 'AdjLand': 0, 'Alloca': 0, 'Family': 0, 'Partial': 0})"
   ]
  },
  {
   "cell_type": "code",
   "execution_count": 87,
   "id": "20890ca6",
   "metadata": {},
   "outputs": [],
   "source": [
    "features=['Id', 'SalePrice', 'Neighborhood', 'LotFrontage', 'LotArea', 'Street', 'Alley', 'LotShape', 'LandContour', 'Utilities', 'LandSlope',\n",
    "          'OverallQual', 'OverallCond', 'YearBuilt', 'YearRemodAdd', 'RoofMatl', 'MasVnrArea', 'ExterQual', 'ExterCond', 'BsmtQual', 'BsmtCond', 'BsmtExposure', \n",
    "          'BsmtFinType1', 'BsmtFinSF1', 'BsmtFinType2', 'BsmtFinSF2', 'BsmtUnfSF', 'TotalBsmtSF', 'Heating', 'HeatingQC', 'CentralAir', 'Electrical', '1stFlrSF', \n",
    "          '2ndFlrSF', 'LowQualFinSF', 'GrLivArea', 'BsmtFullBath', 'BsmtHalfBath', 'FullBath', 'HalfBath', 'BedroomAbvGr', 'KitchenAbvGr', 'KitchenQual', 'TotRmsAbvGrd',\n",
    "          'Fireplaces', 'GarageFinish', 'GarageCars', 'GarageArea', 'GarageQual', 'GarageCond', 'PavedDrive', 'WoodDeckSF', 'OpenPorchSF', 'EnclosedPorch', '3SsnPorch', \n",
    "          'ScreenPorch', 'PoolArea', 'SaleCondition', 'Corner', 'CulDSac', 'FR2', 'FR3', 'Inside', 'Blmngtn', 'Blueste', 'BrDale', 'BrkSide', 'ClearCr', 'CollgCr', \n",
    "          'Crawfor', 'Edwards', 'Gilbert', 'IDOTRR', 'MeadowV', 'Mitchel', 'NAmes', 'NPkVill', 'NWAmes', 'NoRidge', 'NridgHt', 'OldTown', 'SWISU', 'Sawyer', 'SawyerW', 'Somerst', \n",
    "          'StoneBr', 'Timber', 'Veenker', '1Fam', '2Fam', 'Twnhs', '1.5Fin', '1.5Unf', '1Story', '2.5Fin', '2.5Unf', '2Story', 'SFoyer', 'SLvl', 'Gable', 'Hip', 'Others', 'BrkCmn', \n",
    "          'BrkFace', 'None', 'Stone', 'Y_2006', 'Y_2007', 'Y_2008', 'Y_2009', 'Y_2010']     \n",
    "\n",
    "df = df[features].copy()"
   ]
  },
  {
   "cell_type": "code",
   "execution_count": 88,
   "id": "2bb2df70",
   "metadata": {},
   "outputs": [
    {
     "data": {
      "text/plain": [
       "BsmtQual        37\n",
       "BsmtCond        37\n",
       "BsmtExposure    38\n",
       "BsmtFinType1    37\n",
       "BsmtFinType2    38\n",
       "Electrical       1\n",
       "GarageFinish    81\n",
       "GarageQual      81\n",
       "GarageCond      81\n",
       "dtype: int64"
      ]
     },
     "execution_count": 88,
     "metadata": {},
     "output_type": "execute_result"
    }
   ],
   "source": [
    "df.isnull().sum()[df.isnull().sum() > 0]"
   ]
  },
  {
   "cell_type": "code",
   "execution_count": 89,
   "id": "68e69ac0",
   "metadata": {},
   "outputs": [],
   "source": [
    "#We filled 0 for the null value in some varaibles. They are not simply null values, but \n",
    "df.fillna(0, inplace=True)"
   ]
  },
  {
   "cell_type": "code",
   "execution_count": 43,
   "id": "c4987e7d",
   "metadata": {},
   "outputs": [],
   "source": [
    "df.to_csv(\"data_cleaned.csv\", index=False)"
   ]
  }
 ],
 "metadata": {
  "kernelspec": {
   "display_name": "Python (ppd599)",
   "language": "python",
   "name": "ppd599"
  },
  "language_info": {
   "codemirror_mode": {
    "name": "ipython",
    "version": 3
   },
   "file_extension": ".py",
   "mimetype": "text/x-python",
   "name": "python",
   "nbconvert_exporter": "python",
   "pygments_lexer": "ipython3",
   "version": "3.9.2"
  }
 },
 "nbformat": 4,
 "nbformat_minor": 5
}
